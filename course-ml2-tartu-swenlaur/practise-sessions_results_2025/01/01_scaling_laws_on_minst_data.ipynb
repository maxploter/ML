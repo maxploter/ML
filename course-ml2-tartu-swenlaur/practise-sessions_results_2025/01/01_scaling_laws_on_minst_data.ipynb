{
  "cells": [
    {
      "cell_type": "markdown",
      "metadata": {
        "id": "view-in-github",
        "colab_type": "text"
      },
      "source": [
        "<a href=\"https://colab.research.google.com/github/maxploter/ML/blob/main/course-ml2-tartu-swenlaur/practise-sessions_results_2025/01/01_scaling_laws_on_minst_data.ipynb\" target=\"_parent\"><img src=\"https://colab.research.google.com/assets/colab-badge.svg\" alt=\"Open In Colab\"/></a>"
      ]
    },
    {
      "cell_type": "markdown",
      "source": [
        "# Prepare the notebook\n",
        "\n",
        "machine-learning-ii/practise-sessions_results_2025/01/"
      ],
      "metadata": {
        "id": "hrcjD9MBWZ9y"
      },
      "id": "hrcjD9MBWZ9y"
    },
    {
      "cell_type": "code",
      "source": [
        "!git clone https://github.com/swenlaur/machine-learning-ii.git"
      ],
      "metadata": {
        "colab": {
          "base_uri": "https://localhost:8080/"
        },
        "id": "Shr-0_IY8-tJ",
        "outputId": "3d7e9dba-5560-4ccf-c087-3f4dea375720"
      },
      "execution_count": 1,
      "outputs": [
        {
          "output_type": "stream",
          "name": "stdout",
          "text": [
            "Cloning into 'machine-learning-ii'...\n",
            "remote: Enumerating objects: 3485, done.\u001b[K\n",
            "remote: Counting objects: 100% (176/176), done.\u001b[K\n",
            "remote: Compressing objects: 100% (123/123), done.\u001b[K\n",
            "remote: Total 3485 (delta 90), reused 118 (delta 53), pack-reused 3309 (from 1)\u001b[K\n",
            "Receiving objects: 100% (3485/3485), 232.41 MiB | 10.54 MiB/s, done.\n",
            "Resolving deltas: 100% (1939/1939), done.\n",
            "Updating files: 100% (787/787), done.\n"
          ]
        }
      ],
      "id": "Shr-0_IY8-tJ"
    },
    {
      "cell_type": "code",
      "source": [
        "Failed to save notebook to https://github.com/maxploter/ML/blob/add-ml2-results/machine-learning-ii/practise-sessions_results_2025/01/01_scaling_laws_on_minst_data.ipynb01_scaling_laws_on_minst_data.ipynb\n",
        "CustomError: Failed to save notebook to https://github.com/maxploter/ML/blob/add-ml2-results/machine-learning-ii/practise-sessions_results_2025/01/01_scaling_laws_on_minst_data.ipynb01_scaling_laws_on_minst_data.ipynb\n",
        "    at new F3a (https://ssl.gstatic.com/colaboratory-static/common/3411ed55c999b983576f3a2ff2cdaece/external_binary_l10n__en_gb.js:2438:19)\n",
        "    at wa.program_ (https://ssl.gstatic.com/colaboratory-static/common/3411ed55c999b983576f3a2ff2cdaece/external_binary_l10n__en_gb.js:2446:475)\n",
        "    at ya (https://ssl.gstatic.com/colaboratory-static/common/3411ed55c999b983576f3a2ff2cdaece/external_binary_l10n__en_gb.js:16:57)\n",
        "    at wa.throw_ (https://ssl.gstatic.com/colaboratory-static/common/3411ed55c999b983576f3a2ff2cdaece/external_binary_l10n__en_gb.js:15:201)\n",
        "    at kaa.throw (https://ssl.gstatic.com/colaboratory-static/common/3411ed55c999b983576f3a2ff2cdaece/external_binary_l10n__en_gb.js:17:90)\n",
        "    at c (https://ssl.gstatic.com/colaboratory-static/common/3411ed55c999b983576f3a2ff2cdaece/external_binary_l10n__en_gb.js:17:345)\n"
      ],
      "metadata": {
        "id": "BzE1duH6fOmI"
      },
      "id": "BzE1duH6fOmI",
      "execution_count": null,
      "outputs": []
    },
    {
      "cell_type": "code",
      "source": [
        "import sys\n",
        "\n",
        "sys.path.append('machine-learning-ii/practise-sessions/01')\n",
        "%cd machine-learning-ii/practise-sessions/01"
      ],
      "metadata": {
        "colab": {
          "base_uri": "https://localhost:8080/"
        },
        "id": "MWSEdyC-9Yxw",
        "outputId": "01d5969f-28e7-4ed2-d7ab-37d89ed33b90"
      },
      "execution_count": 2,
      "outputs": [
        {
          "output_type": "stream",
          "name": "stdout",
          "text": [
            "/content/machine-learning-ii/practise-sessions/01\n"
          ]
        }
      ],
      "id": "MWSEdyC-9Yxw"
    },
    {
      "cell_type": "code",
      "source": [
        "# !pip install ipyvolume\n",
        "# !pip install ete3"
      ],
      "metadata": {
        "id": "hRwyluFG9ucQ"
      },
      "execution_count": 3,
      "outputs": [],
      "id": "hRwyluFG9ucQ"
    },
    {
      "cell_type": "markdown",
      "id": "067eb307-65aa-4dca-b1f3-7fbbfdb2bede",
      "metadata": {
        "id": "067eb307-65aa-4dca-b1f3-7fbbfdb2bede"
      },
      "source": [
        "# Scaling laws in image classification\n",
        "\n",
        "The performance of an image classification algorithm depens on three factors:\n",
        "* complexity of a model,\n",
        "* the amount of training data,\n",
        "* the amount of computational resources.\n",
        "\n",
        "To achieve best performance one has to make a careful tradeoff between these aspects.\n",
        "Note that there are usually hard limits on the amount of training data and the amount of computational resources.\n",
        "In this tutorial, we fix a model and computational resources and consider how does the performance change if we add more data.\n",
        "The corresponding scaling law gives an insight what is needed to get a better performance.\n",
        "\n",
        "We are going to work with [MNIST dataset](https://www.kaggle.com/datasets/hojjatk/mnist-dataset).\n",
        "Although the MNIST dataset is small we can still work out scaling laws.\n",
        "Later on we can improve the treatment and train an image generator on MNIST data that outputs potentially infinite dataset."
      ]
    },
    {
      "cell_type": "code",
      "execution_count": 4,
      "id": "be82a594-c37d-48db-807d-161e738ae19d",
      "metadata": {
        "id": "be82a594-c37d-48db-807d-161e738ae19d"
      },
      "outputs": [],
      "source": [
        "import pandas as pd\n",
        "import tensorflow as tf\n",
        "import matplotlib.pyplot as plt\n",
        "\n",
        "from tqdm.auto import tqdm\n",
        "from keras.optimizers import Adam\n",
        "from plotnine import *\n",
        "\n",
        "from convenience import display_source\n",
        "\n",
        "##from model_library.display_code import display_source\n",
        "##from model_library.dataframe_manipulation import combine_two_dataframes"
      ]
    },
    {
      "cell_type": "markdown",
      "id": "c45b10b7-d7f2-42ce-922d-7b7139bf0a85",
      "metadata": {
        "id": "c45b10b7-d7f2-42ce-922d-7b7139bf0a85"
      },
      "source": [
        "## I. Dataset prepararion\n",
        "\n",
        "We will use the MNIST dataset as is and evaluate classifiers that predict labels $0,\\ldots,9$.\n",
        "\n",
        "**Training data**\n",
        "* We use the entire training set: $N=60,000$.\n",
        "* We use tensors with dimensions $(N)$ as labels.\n",
        "* We use tensors with dimension $(N, 28, 28)$ as input images.\n",
        "\n",
        "**Test data**\n",
        "* We the entire test set: $N=10,000$.\n",
        "* We use tensors with dimensions $(N)$ as labels.\n",
        "* We use tensors with dimension $(N, 28, 28)$ as input images."
      ]
    },
    {
      "cell_type": "code",
      "execution_count": 5,
      "id": "d9298bc7-9b78-4c0e-83ce-932699faf348",
      "metadata": {
        "colab": {
          "base_uri": "https://localhost:8080/"
        },
        "id": "d9298bc7-9b78-4c0e-83ce-932699faf348",
        "outputId": "2364b5b3-1b81-47a7-ecd8-b5c38e2f7c9c"
      },
      "outputs": [
        {
          "output_type": "stream",
          "name": "stdout",
          "text": [
            "Downloading data from https://storage.googleapis.com/tensorflow/tf-keras-datasets/mnist.npz\n",
            "\u001b[1m11490434/11490434\u001b[0m \u001b[32m━━━━━━━━━━━━━━━━━━━━\u001b[0m\u001b[37m\u001b[0m \u001b[1m0s\u001b[0m 0us/step\n"
          ]
        }
      ],
      "source": [
        "import tensorflow as tf\n",
        "from tensorflow.keras.datasets import mnist\n",
        "\n",
        "\n",
        "# Load the MNIST dataset\n",
        "(train_images, train_labels), (test_images, test_labels) = mnist.load_data()\n",
        "\n",
        "train_images = train_images / 255.0\n",
        "test_images = test_images / 255.0"
      ]
    },
    {
      "cell_type": "code",
      "execution_count": 6,
      "id": "ba2e7fc2-af48-48e4-9cc5-0f4d517e95ee",
      "metadata": {
        "colab": {
          "base_uri": "https://localhost:8080/",
          "height": 401
        },
        "id": "ba2e7fc2-af48-48e4-9cc5-0f4d517e95ee",
        "outputId": "afc91c0b-2301-4779-a987-251626f1bdd3"
      },
      "outputs": [
        {
          "output_type": "display_data",
          "data": {
            "text/plain": [
              "<Figure size 1000x200 with 20 Axes>"
            ],
            "image/png": "[encoded data removed]"
          },
          "metadata": {}
        },
        {
          "output_type": "display_data",
          "data": {
            "text/plain": [
              "<Figure size 1000x200 with 20 Axes>"
            ],
            "image/png": "[encoded data removed]"
          },
          "metadata": {}
        }
      ],
      "source": [
        "fig, axs = plt.subplots(2, 10, figsize=(10, 2))\n",
        "plt.suptitle('Training data')\n",
        "plt.subplots_adjust(wspace=0.1, hspace=0.1)\n",
        "plt.setp(axs, xticks=[], yticks=[], xlabel='', ylabel='', aspect='equal')\n",
        "for i in range(10):\n",
        "    axs[0, i].imshow(train_images[i], cmap='gray', vmin=0, vmax=1)\n",
        "    axs[1, i].imshow(train_images[10 + i], cmap='gray', vmin=0, vmax=1)\n",
        "plt.show()\n",
        "\n",
        "fig, axs = plt.subplots(2, 10, figsize=(10, 2))\n",
        "plt.suptitle('Test data')\n",
        "plt.subplots_adjust(wspace=0.1, hspace=0.1)\n",
        "plt.setp(axs, xticks=[], yticks=[], xlabel='', ylabel='', aspect='equal')\n",
        "for i in range(10):\n",
        "    axs[0, i].imshow(test_images[i], cmap='gray', vmin=0, vmax=1)\n",
        "    axs[1, i].imshow(test_images[10 + i], cmap='gray', vmin=0, vmax=1)\n",
        "plt.show()"
      ]
    },
    {
      "cell_type": "markdown",
      "id": "60efb54b-b279-4460-aefb-308ba16a4f75",
      "metadata": {
        "id": "60efb54b-b279-4460-aefb-308ba16a4f75"
      },
      "source": [
        "## II. Models to be trained\n",
        "\n",
        "We are going to consider two models implemented as `keras` neural networks:\n",
        "* [Logistic regression model](https://en.wikipedia.org/wiki/Logistic_regression) -- a limited model that underfits the data;\n",
        "* Convolutional neural network [Lenet5 by Yan Lecun](https://ieeexplore.ieee.org/document/726791) -- a rich model that is known to perform well on this data.\n",
        "\n",
        "**Change model architecture**\n",
        "\n",
        "* Differently from tutorial [01_scaling_laws_on_minst_data.ipynb]('./tutorials/data-scaling/01_scaling_laws_on_minst_data.ipynb') we need to change the last layer.\n",
        "* We need to use `Dense(10, activation='softmax')` layer instead of current `Dense(1, activation='sigmoid')`."
      ]
    },
    {
      "cell_type": "code",
      "execution_count": 7,
      "id": "3e48a318-91d7-4a2f-b332-f98b39ac38d9",
      "metadata": {
        "colab": {
          "base_uri": "https://localhost:8080/",
          "height": 659
        },
        "id": "3e48a318-91d7-4a2f-b332-f98b39ac38d9",
        "outputId": "51139967-1d46-4143-bc7c-22130ae39ee1"
      },
      "outputs": [
        {
          "output_type": "display_data",
          "data": {
            "text/plain": [
              "<IPython.core.display.Markdown object>"
            ],
            "text/markdown": "```python\ndef mnist_logreg_model() -> keras.Model:\n    \"\"\"\n    Returns initialised neural network for computing logistic regression on 28 x 28 greyscale images.\n    \"\"\"\n    logreg = keras.Sequential(\n        [\n            layers.InputLayer((28, 28)),\n            layers.Flatten(),\n            layers.Dense(1, activation='sigmoid')\n        ],\n        name=\"Logistic_regression\"\n    )\n    logreg.build()\n    return logreg\n\n```"
          },
          "metadata": {}
        },
        {
          "output_type": "display_data",
          "data": {
            "text/plain": [
              "<IPython.core.display.Markdown object>"
            ],
            "text/markdown": "```python\ndef mnist_binary_lenet5_model() -> keras.Model:\n    \"\"\"\n    Returns initialised neural network for LeNet-5 model that works on 28 x 28 greyscale images.\n    Differently form the original model we consider only separation of two digit classes.\n    The model structure is adapted from Kaggle webpage LeNet-5 CNN with Keras\n    https://www.kaggle.com/code/curiousprogrammer/lenet-5-cnn-with-keras-99-48\n    \"\"\"\n    lenet5 = keras.Sequential(\n        [\n            layers.InputLayer((28, 28, 1)),\n            layers.Conv2D(filters=32, kernel_size=(5, 5), padding='same', activation='relu'),\n            layers.MaxPool2D(strides=2),\n            layers.Conv2D(filters=48, kernel_size=(5, 5), padding='valid', activation='relu'),\n            layers.MaxPool2D(strides=2),\n            layers.Flatten(),\n            layers.Dense(256, activation='relu'),\n            layers.Dense(84, activation='relu'),\n            layers.Dense(1, activation='sigmoid')\n        ],\n        name=\"LeNet-5\"\n    )\n    lenet5.build()\n    return lenet5\n\n```"
          },
          "metadata": {}
        }
      ],
      "source": [
        "import sys\n",
        "sys.path.append('tutorials/data-scaling/')\n",
        "\n",
        "from model_library.logreg import mnist_logreg_model\n",
        "display_source(mnist_logreg_model)\n",
        "\n",
        "from model_library.lenet5 import mnist_binary_lenet5_model\n",
        "display_source(mnist_binary_lenet5_model)"
      ]
    },
    {
      "cell_type": "markdown",
      "id": "a0f01a74-a2ae-49ef-84ad-e9a1d534bd66",
      "metadata": {
        "id": "a0f01a74-a2ae-49ef-84ad-e9a1d534bd66"
      },
      "source": [
        "**Change label encoding**\n",
        "\n",
        "Secondly, we need to use one-hot-encoding for labels instead of values $0, \\ldots, 9$."
      ]
    },
    {
      "cell_type": "code",
      "execution_count": 8,
      "id": "e3d85218-77e3-4e9f-a65a-aa4659c137f7",
      "metadata": {
        "id": "e3d85218-77e3-4e9f-a65a-aa4659c137f7"
      },
      "outputs": [],
      "source": [
        "from tensorflow.keras.utils import to_categorical\n",
        "\n",
        "old_train_labels = train_labels[:20]\n",
        "train_labels = to_categorical(train_labels, 10)\n",
        "test_labels= to_categorical(test_labels, 10)"
      ]
    },
    {
      "cell_type": "code",
      "execution_count": 9,
      "id": "a655c741-6e77-417b-96a6-2e63fe55adea",
      "metadata": {
        "colab": {
          "base_uri": "https://localhost:8080/",
          "height": 452
        },
        "id": "a655c741-6e77-417b-96a6-2e63fe55adea",
        "outputId": "91bcae48-cbc0-45ff-a7bf-b4a0534eaeeb"
      },
      "outputs": [
        {
          "output_type": "display_data",
          "data": {
            "text/plain": [
              "<Figure size 640x480 with 1 Axes>"
            ],
            "image/png": "[encoded data removed]"
          },
          "metadata": {}
        }
      ],
      "source": [
        "plt.title('One-hot encoding of labels')\n",
        "plt.imshow(train_labels[:20])\n",
        "plt.xticks(ticks=list(range(0,10)))\n",
        "plt.gca().tick_params(axis='x', which='both', top=True, labeltop=True, bottom=False, labelbottom=False)\n",
        "plt.yticks(ticks = list(range(0, 20)), labels=old_train_labels )\n",
        "plt.show()"
      ]
    },
    {
      "cell_type": "markdown",
      "id": "9031d10f-0409-468c-a4eb-6aaf48865c8f",
      "metadata": {
        "id": "9031d10f-0409-468c-a4eb-6aaf48865c8f"
      },
      "source": [
        "**Change loss function and accuracy metric**\n",
        "\n",
        "We do not need to change the optimizer, loss function nor the accuracy metric during model compilation.\n",
        "\n",
        "```\n",
        "model.compile(..., loss='binary_crossentropy', metrics=['accuracy']),...)\n",
        "```"
      ]
    },
    {
      "cell_type": "markdown",
      "id": "bd80194c-71c5-4dde-a411-9ed83161ee9f",
      "metadata": {
        "id": "bd80194c-71c5-4dde-a411-9ed83161ee9f"
      },
      "source": [
        "## III. Training routines\n",
        "\n",
        "We need a random sampler for choosing smaller training sets. It makes sense to compute scaling laws on 10 datapoints at equal distance, i.e. with 6000 sample increments. To avoid coincidences you should shuffle datapoints and labels"
      ]
    },
    {
      "cell_type": "code",
      "execution_count": 10,
      "id": "1e80d0ed-02c0-44c5-843c-c2b903c38ab4",
      "metadata": {
        "id": "1e80d0ed-02c0-44c5-843c-c2b903c38ab4"
      },
      "outputs": [],
      "source": [
        "shuffle_index = tf.random.shuffle(tf.range(len(train_images)))\n",
        "shuffled_images = tf.gather(train_images, shuffle_index)\n",
        "shuffled_labels = tf.gather(train_labels, shuffle_index)"
      ]
    },
    {
      "cell_type": "code",
      "execution_count": 11,
      "id": "2fc54054-1bfd-4d61-8bcf-a237fa9aaf1f",
      "metadata": {
        "colab": {
          "base_uri": "https://localhost:8080/",
          "height": 270
        },
        "id": "2fc54054-1bfd-4d61-8bcf-a237fa9aaf1f",
        "outputId": "638f5551-989a-4537-981c-9d86a7a815d6"
      },
      "outputs": [
        {
          "output_type": "display_data",
          "data": {
            "text/plain": [
              "<Figure size 1400x500 with 5 Axes>"
            ],
            "image/png": "[encoded data removed]"
          },
          "metadata": {}
        }
      ],
      "source": [
        "fig, axs = plt.subplots(1, 5, figsize=(14, 5))\n",
        "for i in range(0, 5):\n",
        "    axs[i].imshow(shuffled_images[i], cmap='gray', vmin=0, vmax=1)\n",
        "    axs[i].set_title(tf.cast(shuffled_labels[i], 'int32').numpy())"
      ]
    },
    {
      "cell_type": "markdown",
      "id": "05ab6ca7-7e32-485a-8013-c395329d360a",
      "metadata": {
        "id": "05ab6ca7-7e32-485a-8013-c395329d360a"
      },
      "source": [
        "Since we are intersted in data scaling and do not need to gather telementry during training, we can just use\n",
        "```\n",
        "model.fit(images, labels, epochs=10, batch_size=32)\n",
        "```\n",
        "\n",
        "and later on use\n",
        "\n",
        "```\n",
        "model.evaluate(test_images, test_labels)\n",
        "```\n",
        "\n",
        "to collect necessary telemetry for different datataset sizes. You can adapt the code from  [01_scaling_laws_on_minst_data.ipynb]('./tutorials/data-scaling/01_scaling_laws_on_minst_data.ipynb') to solve the following exercises."
      ]
    },
    {
      "cell_type": "markdown",
      "id": "60656e06-1cac-4389-88cb-bc44d226fbb8",
      "metadata": {
        "id": "60656e06-1cac-4389-88cb-bc44d226fbb8"
      },
      "source": [
        "# Homework"
      ]
    },
    {
      "cell_type": "markdown",
      "id": "352e1f9d-ba69-4121-9794-7fe5c3cd14c2",
      "metadata": {
        "id": "352e1f9d-ba69-4121-9794-7fe5c3cd14c2"
      },
      "source": [
        "## 1.1. Empirical data scaling laws for MNIST dataset (<font color='red'>1p</font>)\n",
        "\n",
        "Tabulate test accuracy for softmax regression model (aka perceptron) and LeNet-5 on dataset sizes $6000, 12000,\\ldots, 60000$.\n",
        "To eyeball the effect of random fluctuations. Perform the experiment twice with different randomisations. Draw the corresponding scaling laws as two graphs with two lines on each."
      ]
    },
    {
      "cell_type": "code",
      "source": [
        "import keras\n",
        "from keras import layers\n",
        "\n",
        "def mnist_lenet5_model() -> keras.Model:\n",
        "    \"\"\"\n",
        "    Returns initialised neural network for LeNet-5 model that works on 28 x 28 greyscale images.\n",
        "    Differently form the original model we consider only separation of two digit classes.\n",
        "    The model structure is adapted from Kaggle webpage LeNet-5 CNN with Keras\n",
        "    https://www.kaggle.com/code/curiousprogrammer/lenet-5-cnn-with-keras-99-48\n",
        "    \"\"\"\n",
        "    lenet5 = keras.Sequential(\n",
        "        [\n",
        "            layers.InputLayer((28, 28, 1)),\n",
        "            layers.Conv2D(filters=32, kernel_size=(5, 5), padding='same', activation='relu'),\n",
        "            layers.MaxPool2D(strides=2),\n",
        "            layers.Conv2D(filters=48, kernel_size=(5, 5), padding='valid', activation='relu'),\n",
        "            layers.MaxPool2D(strides=2),\n",
        "            layers.Flatten(),\n",
        "            layers.Dense(256, activation='relu'),\n",
        "            layers.Dense(84, activation='relu'),\n",
        "            layers.Dense(10, activation='softmax')\n",
        "        ],\n",
        "        name=\"LeNet-5\"\n",
        "    )\n",
        "    lenet5.build()\n",
        "    return lenet5"
      ],
      "metadata": {
        "id": "XrXY0MHMMy1A"
      },
      "id": "XrXY0MHMMy1A",
      "execution_count": 12,
      "outputs": []
    },
    {
      "cell_type": "code",
      "source": [
        "def mnist_softmaxreg_model() -> keras.Model:\n",
        "    \"\"\"\n",
        "    Returns initialised neural network for computing logistic regression on 28 x 28 greyscale images.\n",
        "    \"\"\"\n",
        "    logreg = keras.Sequential(\n",
        "        [\n",
        "            layers.InputLayer((28, 28)),\n",
        "            layers.Flatten(),\n",
        "            layers.Dense(10, activation='softmax')\n",
        "        ],\n",
        "        name=\"Softmax-regression-model\"\n",
        "    )\n",
        "    logreg.build()\n",
        "    return logreg"
      ],
      "metadata": {
        "id": "qZVQhXczP6X8"
      },
      "id": "qZVQhXczP6X8",
      "execution_count": 13,
      "outputs": []
    },
    {
      "cell_type": "code",
      "source": [
        "lenet5 = mnist_lenet5_model()\n",
        "lenet5.summary()\n",
        "adam_ln5 = Adam(learning_rate=5e-4)\n",
        "lenet5.compile(loss='crossentropy', metrics=['accuracy'], optimizer=adam_ln5)"
      ],
      "metadata": {
        "colab": {
          "base_uri": "https://localhost:8080/",
          "height": 385
        },
        "id": "mJhJ4LI4M7SY",
        "outputId": "b65fdcc0-4fda-4558-fc0e-a1263a0bab6b"
      },
      "id": "mJhJ4LI4M7SY",
      "execution_count": 14,
      "outputs": [
        {
          "output_type": "display_data",
          "data": {
            "text/plain": [
              "\u001b[1mModel: \"LeNet-5\"\u001b[0m\n"
            ],
            "text/html": [
              "<pre style=\"white-space:pre;overflow-x:auto;line-height:normal;font-family:Menlo,'DejaVu Sans Mono',consolas,'Courier New',monospace\"><span style=\"font-weight: bold\">Model: \"LeNet-5\"</span>\n",
              "</pre>\n"
            ]
          },
          "metadata": {}
        },
        {
          "output_type": "display_data",
          "data": {
            "text/plain": [
              "┏━━━━━━━━━━━━━━━━━━━━━━━━━━━━━━━━━┳━━━━━━━━━━━━━━━━━━━━━━━━┳━━━━━━━━━━━━━━━┓\n",
              "┃\u001b[1m \u001b[0m\u001b[1mLayer (type)                   \u001b[0m\u001b[1m \u001b[0m┃\u001b[1m \u001b[0m\u001b[1mOutput Shape          \u001b[0m\u001b[1m \u001b[0m┃\u001b[1m \u001b[0m\u001b[1m      Param #\u001b[0m\u001b[1m \u001b[0m┃\n",
              "┡━━━━━━━━━━━━━━━━━━━━━━━━━━━━━━━━━╇━━━━━━━━━━━━━━━━━━━━━━━━╇━━━━━━━━━━━━━━━┩\n",
              "│ conv2d (\u001b[38;5;33mConv2D\u001b[0m)                 │ (\u001b[38;5;45mNone\u001b[0m, \u001b[38;5;34m28\u001b[0m, \u001b[38;5;34m28\u001b[0m, \u001b[38;5;34m32\u001b[0m)     │           \u001b[38;5;34m832\u001b[0m │\n",
              "├─────────────────────────────────┼────────────────────────┼───────────────┤\n",
              "│ max_pooling2d (\u001b[38;5;33mMaxPooling2D\u001b[0m)    │ (\u001b[38;5;45mNone\u001b[0m, \u001b[38;5;34m14\u001b[0m, \u001b[38;5;34m14\u001b[0m, \u001b[38;5;34m32\u001b[0m)     │             \u001b[38;5;34m0\u001b[0m │\n",
              "├─────────────────────────────────┼────────────────────────┼───────────────┤\n",
              "│ conv2d_1 (\u001b[38;5;33mConv2D\u001b[0m)               │ (\u001b[38;5;45mNone\u001b[0m, \u001b[38;5;34m10\u001b[0m, \u001b[38;5;34m10\u001b[0m, \u001b[38;5;34m48\u001b[0m)     │        \u001b[38;5;34m38,448\u001b[0m │\n",
              "├─────────────────────────────────┼────────────────────────┼───────────────┤\n",
              "│ max_pooling2d_1 (\u001b[38;5;33mMaxPooling2D\u001b[0m)  │ (\u001b[38;5;45mNone\u001b[0m, \u001b[38;5;34m5\u001b[0m, \u001b[38;5;34m5\u001b[0m, \u001b[38;5;34m48\u001b[0m)       │             \u001b[38;5;34m0\u001b[0m │\n",
              "├─────────────────────────────────┼────────────────────────┼───────────────┤\n",
              "│ flatten (\u001b[38;5;33mFlatten\u001b[0m)               │ (\u001b[38;5;45mNone\u001b[0m, \u001b[38;5;34m1200\u001b[0m)           │             \u001b[38;5;34m0\u001b[0m │\n",
              "├─────────────────────────────────┼────────────────────────┼───────────────┤\n",
              "│ dense (\u001b[38;5;33mDense\u001b[0m)                   │ (\u001b[38;5;45mNone\u001b[0m, \u001b[38;5;34m256\u001b[0m)            │       \u001b[38;5;34m307,456\u001b[0m │\n",
              "├─────────────────────────────────┼────────────────────────┼───────────────┤\n",
              "│ dense_1 (\u001b[38;5;33mDense\u001b[0m)                 │ (\u001b[38;5;45mNone\u001b[0m, \u001b[38;5;34m84\u001b[0m)             │        \u001b[38;5;34m21,588\u001b[0m │\n",
              "├─────────────────────────────────┼────────────────────────┼───────────────┤\n",
              "│ dense_2 (\u001b[38;5;33mDense\u001b[0m)                 │ (\u001b[38;5;45mNone\u001b[0m, \u001b[38;5;34m10\u001b[0m)             │           \u001b[38;5;34m850\u001b[0m │\n",
              "└─────────────────────────────────┴────────────────────────┴───────────────┘\n"
            ],
            "text/html": [
              "<pre style=\"white-space:pre;overflow-x:auto;line-height:normal;font-family:Menlo,'DejaVu Sans Mono',consolas,'Courier New',monospace\">┏━━━━━━━━━━━━━━━━━━━━━━━━━━━━━━━━━┳━━━━━━━━━━━━━━━━━━━━━━━━┳━━━━━━━━━━━━━━━┓\n",
              "┃<span style=\"font-weight: bold\"> Layer (type)                    </span>┃<span style=\"font-weight: bold\"> Output Shape           </span>┃<span style=\"font-weight: bold\">       Param # </span>┃\n",
              "┡━━━━━━━━━━━━━━━━━━━━━━━━━━━━━━━━━╇━━━━━━━━━━━━━━━━━━━━━━━━╇━━━━━━━━━━━━━━━┩\n",
              "│ conv2d (<span style=\"color: #0087ff; text-decoration-color: #0087ff\">Conv2D</span>)                 │ (<span style=\"color: #00d7ff; text-decoration-color: #00d7ff\">None</span>, <span style=\"color: #00af00; text-decoration-color: #00af00\">28</span>, <span style=\"color: #00af00; text-decoration-color: #00af00\">28</span>, <span style=\"color: #00af00; text-decoration-color: #00af00\">32</span>)     │           <span style=\"color: #00af00; text-decoration-color: #00af00\">832</span> │\n",
              "├─────────────────────────────────┼────────────────────────┼───────────────┤\n",
              "│ max_pooling2d (<span style=\"color: #0087ff; text-decoration-color: #0087ff\">MaxPooling2D</span>)    │ (<span style=\"color: #00d7ff; text-decoration-color: #00d7ff\">None</span>, <span style=\"color: #00af00; text-decoration-color: #00af00\">14</span>, <span style=\"color: #00af00; text-decoration-color: #00af00\">14</span>, <span style=\"color: #00af00; text-decoration-color: #00af00\">32</span>)     │             <span style=\"color: #00af00; text-decoration-color: #00af00\">0</span> │\n",
              "├─────────────────────────────────┼────────────────────────┼───────────────┤\n",
              "│ conv2d_1 (<span style=\"color: #0087ff; text-decoration-color: #0087ff\">Conv2D</span>)               │ (<span style=\"color: #00d7ff; text-decoration-color: #00d7ff\">None</span>, <span style=\"color: #00af00; text-decoration-color: #00af00\">10</span>, <span style=\"color: #00af00; text-decoration-color: #00af00\">10</span>, <span style=\"color: #00af00; text-decoration-color: #00af00\">48</span>)     │        <span style=\"color: #00af00; text-decoration-color: #00af00\">38,448</span> │\n",
              "├─────────────────────────────────┼────────────────────────┼───────────────┤\n",
              "│ max_pooling2d_1 (<span style=\"color: #0087ff; text-decoration-color: #0087ff\">MaxPooling2D</span>)  │ (<span style=\"color: #00d7ff; text-decoration-color: #00d7ff\">None</span>, <span style=\"color: #00af00; text-decoration-color: #00af00\">5</span>, <span style=\"color: #00af00; text-decoration-color: #00af00\">5</span>, <span style=\"color: #00af00; text-decoration-color: #00af00\">48</span>)       │             <span style=\"color: #00af00; text-decoration-color: #00af00\">0</span> │\n",
              "├─────────────────────────────────┼────────────────────────┼───────────────┤\n",
              "│ flatten (<span style=\"color: #0087ff; text-decoration-color: #0087ff\">Flatten</span>)               │ (<span style=\"color: #00d7ff; text-decoration-color: #00d7ff\">None</span>, <span style=\"color: #00af00; text-decoration-color: #00af00\">1200</span>)           │             <span style=\"color: #00af00; text-decoration-color: #00af00\">0</span> │\n",
              "├─────────────────────────────────┼────────────────────────┼───────────────┤\n",
              "│ dense (<span style=\"color: #0087ff; text-decoration-color: #0087ff\">Dense</span>)                   │ (<span style=\"color: #00d7ff; text-decoration-color: #00d7ff\">None</span>, <span style=\"color: #00af00; text-decoration-color: #00af00\">256</span>)            │       <span style=\"color: #00af00; text-decoration-color: #00af00\">307,456</span> │\n",
              "├─────────────────────────────────┼────────────────────────┼───────────────┤\n",
              "│ dense_1 (<span style=\"color: #0087ff; text-decoration-color: #0087ff\">Dense</span>)                 │ (<span style=\"color: #00d7ff; text-decoration-color: #00d7ff\">None</span>, <span style=\"color: #00af00; text-decoration-color: #00af00\">84</span>)             │        <span style=\"color: #00af00; text-decoration-color: #00af00\">21,588</span> │\n",
              "├─────────────────────────────────┼────────────────────────┼───────────────┤\n",
              "│ dense_2 (<span style=\"color: #0087ff; text-decoration-color: #0087ff\">Dense</span>)                 │ (<span style=\"color: #00d7ff; text-decoration-color: #00d7ff\">None</span>, <span style=\"color: #00af00; text-decoration-color: #00af00\">10</span>)             │           <span style=\"color: #00af00; text-decoration-color: #00af00\">850</span> │\n",
              "└─────────────────────────────────┴────────────────────────┴───────────────┘\n",
              "</pre>\n"
            ]
          },
          "metadata": {}
        },
        {
          "output_type": "display_data",
          "data": {
            "text/plain": [
              "\u001b[1m Total params: \u001b[0m\u001b[38;5;34m369,174\u001b[0m (1.41 MB)\n"
            ],
            "text/html": [
              "<pre style=\"white-space:pre;overflow-x:auto;line-height:normal;font-family:Menlo,'DejaVu Sans Mono',consolas,'Courier New',monospace\"><span style=\"font-weight: bold\"> Total params: </span><span style=\"color: #00af00; text-decoration-color: #00af00\">369,174</span> (1.41 MB)\n",
              "</pre>\n"
            ]
          },
          "metadata": {}
        },
        {
          "output_type": "display_data",
          "data": {
            "text/plain": [
              "\u001b[1m Trainable params: \u001b[0m\u001b[38;5;34m369,174\u001b[0m (1.41 MB)\n"
            ],
            "text/html": [
              "<pre style=\"white-space:pre;overflow-x:auto;line-height:normal;font-family:Menlo,'DejaVu Sans Mono',consolas,'Courier New',monospace\"><span style=\"font-weight: bold\"> Trainable params: </span><span style=\"color: #00af00; text-decoration-color: #00af00\">369,174</span> (1.41 MB)\n",
              "</pre>\n"
            ]
          },
          "metadata": {}
        },
        {
          "output_type": "display_data",
          "data": {
            "text/plain": [
              "\u001b[1m Non-trainable params: \u001b[0m\u001b[38;5;34m0\u001b[0m (0.00 B)\n"
            ],
            "text/html": [
              "<pre style=\"white-space:pre;overflow-x:auto;line-height:normal;font-family:Menlo,'DejaVu Sans Mono',consolas,'Courier New',monospace\"><span style=\"font-weight: bold\"> Non-trainable params: </span><span style=\"color: #00af00; text-decoration-color: #00af00\">0</span> (0.00 B)\n",
              "</pre>\n"
            ]
          },
          "metadata": {}
        }
      ]
    },
    {
      "cell_type": "code",
      "source": [
        "import numpy as np\n",
        "from pandas import DataFrame, MultiIndex\n",
        "\n",
        "sizes = list(range(6000, 60001, 6000))\n",
        "runs = [0,1]\n",
        "models = ['LeNet', 'Softmax Regression']\n",
        "\n",
        "index = MultiIndex.from_product([sizes, models, runs], names=['size', 'model', 'run'])\n",
        "\n",
        "results = DataFrame(index=index, columns=['test_accuracy', 'train_accuracy']).assign(test_accuracy=np.nan, train_accuracy=np.nan)\n",
        "\n",
        "for r in runs:\n",
        "  print(f'Run {r}')\n",
        "  shuffle_index = tf.random.shuffle(tf.range(len(train_images)))\n",
        "  shuffled_images = tf.gather(train_images, shuffle_index)\n",
        "  shuffled_labels = tf.gather(train_labels, shuffle_index)\n",
        "\n",
        "  for size in tqdm(sizes):\n",
        "\n",
        "    lenet5 = mnist_lenet5_model()\n",
        "    # lenet5.summary()\n",
        "    adam_ln5 = Adam(learning_rate=5e-4)\n",
        "    lenet5.compile(loss='crossentropy', metrics=['accuracy'], optimizer=adam_ln5)\n",
        "\n",
        "    softmaxreg_model = mnist_softmaxreg_model()\n",
        "\n",
        "    # softmaxreg_model.summary()\n",
        "    adam_sr = Adam(learning_rate=5e-4)\n",
        "    softmaxreg_model.compile(loss='crossentropy', metrics=['accuracy'], optimizer=adam_sr)\n",
        "\n",
        "    images = shuffled_images[:size]\n",
        "    labels = shuffled_labels[:size]\n",
        "\n",
        "    lenet5.fit(images, labels, epochs=10, batch_size=32, verbose=0)\n",
        "    results.loc[(size, 'LeNet', r), 'test_accuracy'] = lenet5.evaluate(test_images, test_labels, verbose=0)[1]\n",
        "    results.loc[(size, 'LeNet', r), 'train_accuracy'] = lenet5.evaluate(images, labels, verbose=0)[1]\n",
        "\n",
        "    softmaxreg_model.fit(images, labels, epochs=10, batch_size=32, verbose=0)\n",
        "    results.loc[(size, 'Softmax Regression', r), 'test_accuracy'] = softmaxreg_model.evaluate(test_images, test_labels, verbose=0)[1]\n",
        "    results.loc[(size, 'Softmax Regression', r), 'train_accuracy'] = softmaxreg_model.evaluate(images, labels, verbose=0)[1]"
      ],
      "metadata": {
        "colab": {
          "base_uri": "https://localhost:8080/",
          "height": 81,
          "referenced_widgets": [
            "2a9733ee1a804108be381aa351c4f949",
            "9bdf9243537d4a90b9b13e0028090e34",
            "6d99d8076cdc451daf66cc612d21300b",
            "04c1ba64cabc4bc98b6c3b132431ed1b",
            "d6a104d2e2574e22a0516ebd62b9a64c",
            "3a562ae69b76425cb9a1c911d14986f1",
            "cb36b5ed4a3d46e5967ecc5d3d5e0e3b",
            "6c4cbb943637435a8641fb44df91c7af",
            "809692d2cb264e95ac9dd9b9f66e8789",
            "748e72347b8c413f9d7f489809d7a12d",
            "61875b0e5fcb41f9b2b8e5b53d6c7794",
            "ff93d8e61d934040b261e954fc844ddc",
            "e469457c39694c918f9e4603751b819e",
            "96e0d234e2b1462fb4e55c9cc132358a",
            "0c08981e35514ddf8cd23e6256102239",
            "528b6f91ba89486db2f9df00c0af1de8",
            "d33a95c3d4bf47ba9a9c70c80773aa00",
            "9351a73c0dd84698bf76c8b19876db40",
            "f3af8eb63501458b854421809c960eb3",
            "19b2137c01674109a4094d8047dbce28",
            "d2bd47a2b0bb41008b274f808c77edea",
            "ce81f51ef9c54126a2bc957b39ae0f82"
          ]
        },
        "id": "AN0xD2HOM_6D",
        "outputId": "a98b3839-9d76-4dd4-d0fb-d0f4d0893bfa"
      },
      "id": "AN0xD2HOM_6D",
      "execution_count": 16,
      "outputs": [
        {
          "output_type": "display_data",
          "data": {
            "text/plain": [
              "  0%|          | 0/10 [00:00<?, ?it/s]"
            ],
            "application/vnd.jupyter.widget-view+json": {
              "version_major": 2,
              "version_minor": 0,
              "model_id": "2a9733ee1a804108be381aa351c4f949"
            }
          },
          "metadata": {}
        },
        {
          "output_type": "display_data",
          "data": {
            "text/plain": [
              "  0%|          | 0/10 [00:00<?, ?it/s]"
            ],
            "application/vnd.jupyter.widget-view+json": {
              "version_major": 2,
              "version_minor": 0,
              "model_id": "ff93d8e61d934040b261e954fc844ddc"
            }
          },
          "metadata": {}
        }
      ]
    },
    {
      "cell_type": "code",
      "source": [
        "results"
      ],
      "metadata": {
        "colab": {
          "base_uri": "https://localhost:8080/",
          "height": 1000
        },
        "id": "bqq3cmFkRZJ8",
        "outputId": "c584a2eb-1774-4007-a773-6148effb1e72"
      },
      "id": "bqq3cmFkRZJ8",
      "execution_count": 18,
      "outputs": [
        {
          "output_type": "execute_result",
          "data": {
            "text/plain": [
              "                              test_accuracy  train_accuracy\n",
              "size  model              run                               \n",
              "6000  LeNet              0           0.9774        0.993833\n",
              "                         1           0.9758        0.997833\n",
              "      Softmax Regression 0           0.9035        0.913833\n",
              "                         1           0.9033        0.917167\n",
              "12000 LeNet              0           0.9867        0.999167\n",
              "                         1           0.9883        0.998667\n",
              "      Softmax Regression 0           0.9141        0.921833\n",
              "                         1           0.9151        0.925083\n",
              "18000 LeNet              0           0.9838        0.996944\n",
              "                         1           0.9887        0.998111\n",
              "      Softmax Regression 0           0.9194        0.924667\n",
              "                         1           0.9181        0.924056\n",
              "24000 LeNet              0           0.9897        0.997667\n",
              "                         1           0.9863        0.994083\n",
              "      Softmax Regression 0           0.9198        0.924625\n",
              "                         1           0.9205        0.926583\n",
              "30000 LeNet              0           0.9915        0.999000\n",
              "                         1           0.9908        0.998133\n",
              "      Softmax Regression 0           0.9246        0.927433\n",
              "                         1           0.9250        0.926533\n",
              "36000 LeNet              0           0.9917        0.998028\n",
              "                         1           0.9903        0.998278\n",
              "      Softmax Regression 0           0.9243        0.927528\n",
              "                         1           0.9256        0.927306\n",
              "42000 LeNet              0           0.9887        0.996238\n",
              "                         1           0.9917        0.998738\n",
              "      Softmax Regression 0           0.9241        0.928143\n",
              "                         1           0.9264        0.927548\n",
              "48000 LeNet              0           0.9896        0.996479\n",
              "                         1           0.9922        0.998438\n",
              "      Softmax Regression 0           0.9247        0.928146\n",
              "                         1           0.9256        0.927708\n",
              "54000 LeNet              0           0.9921        0.998722\n",
              "                         1           0.9925        0.999056\n",
              "      Softmax Regression 0           0.9247        0.929352\n",
              "                         1           0.9276        0.929222\n",
              "60000 LeNet              0           0.9914        0.998017\n",
              "                         1           0.9921        0.998567\n",
              "      Softmax Regression 0           0.9269        0.929650\n",
              "                         1           0.9246        0.929133"
            ],
            "text/html": [
              "\n",
              "  <div id=\"df-6d6aa39f-1ab9-4474-95f9-0bba110abe4d\" class=\"colab-df-container\">\n",
              "    <div>\n",
              "<style scoped>\n",
              "    .dataframe tbody tr th:only-of-type {\n",
              "        vertical-align: middle;\n",
              "    }\n",
              "\n",
              "    .dataframe tbody tr th {\n",
              "        vertical-align: top;\n",
              "    }\n",
              "\n",
              "    .dataframe thead th {\n",
              "        text-align: right;\n",
              "    }\n",
              "</style>\n",
              "<table border=\"1\" class=\"dataframe\">\n",
              "  <thead>\n",
              "    <tr style=\"text-align: right;\">\n",
              "      <th></th>\n",
              "      <th></th>\n",
              "      <th></th>\n",
              "      <th>test_accuracy</th>\n",
              "      <th>train_accuracy</th>\n",
              "    </tr>\n",
              "    <tr>\n",
              "      <th>size</th>\n",
              "      <th>model</th>\n",
              "      <th>run</th>\n",
              "      <th></th>\n",
              "      <th></th>\n",
              "    </tr>\n",
              "  </thead>\n",
              "  <tbody>\n",
              "    <tr>\n",
              "      <th rowspan=\"4\" valign=\"top\">6000</th>\n",
              "      <th rowspan=\"2\" valign=\"top\">LeNet</th>\n",
              "      <th>0</th>\n",
              "      <td>0.9774</td>\n",
              "      <td>0.993833</td>\n",
              "    </tr>\n",
              "    <tr>\n",
              "      <th>1</th>\n",
              "      <td>0.9758</td>\n",
              "      <td>0.997833</td>\n",
              "    </tr>\n",
              "    <tr>\n",
              "      <th rowspan=\"2\" valign=\"top\">Softmax Regression</th>\n",
              "      <th>0</th>\n",
              "      <td>0.9035</td>\n",
              "      <td>0.913833</td>\n",
              "    </tr>\n",
              "    <tr>\n",
              "      <th>1</th>\n",
              "      <td>0.9033</td>\n",
              "      <td>0.917167</td>\n",
              "    </tr>\n",
              "    <tr>\n",
              "      <th rowspan=\"4\" valign=\"top\">12000</th>\n",
              "      <th rowspan=\"2\" valign=\"top\">LeNet</th>\n",
              "      <th>0</th>\n",
              "      <td>0.9867</td>\n",
              "      <td>0.999167</td>\n",
              "    </tr>\n",
              "    <tr>\n",
              "      <th>1</th>\n",
              "      <td>0.9883</td>\n",
              "      <td>0.998667</td>\n",
              "    </tr>\n",
              "    <tr>\n",
              "      <th rowspan=\"2\" valign=\"top\">Softmax Regression</th>\n",
              "      <th>0</th>\n",
              "      <td>0.9141</td>\n",
              "      <td>0.921833</td>\n",
              "    </tr>\n",
              "    <tr>\n",
              "      <th>1</th>\n",
              "      <td>0.9151</td>\n",
              "      <td>0.925083</td>\n",
              "    </tr>\n",
              "    <tr>\n",
              "      <th rowspan=\"4\" valign=\"top\">18000</th>\n",
              "      <th rowspan=\"2\" valign=\"top\">LeNet</th>\n",
              "      <th>0</th>\n",
              "      <td>0.9838</td>\n",
              "      <td>0.996944</td>\n",
              "    </tr>\n",
              "    <tr>\n",
              "      <th>1</th>\n",
              "      <td>0.9887</td>\n",
              "      <td>0.998111</td>\n",
              "    </tr>\n",
              "    <tr>\n",
              "      <th rowspan=\"2\" valign=\"top\">Softmax Regression</th>\n",
              "      <th>0</th>\n",
              "      <td>0.9194</td>\n",
              "      <td>0.924667</td>\n",
              "    </tr>\n",
              "    <tr>\n",
              "      <th>1</th>\n",
              "      <td>0.9181</td>\n",
              "      <td>0.924056</td>\n",
              "    </tr>\n",
              "    <tr>\n",
              "      <th rowspan=\"4\" valign=\"top\">24000</th>\n",
              "      <th rowspan=\"2\" valign=\"top\">LeNet</th>\n",
              "      <th>0</th>\n",
              "      <td>0.9897</td>\n",
              "      <td>0.997667</td>\n",
              "    </tr>\n",
              "    <tr>\n",
              "      <th>1</th>\n",
              "      <td>0.9863</td>\n",
              "      <td>0.994083</td>\n",
              "    </tr>\n",
              "    <tr>\n",
              "      <th rowspan=\"2\" valign=\"top\">Softmax Regression</th>\n",
              "      <th>0</th>\n",
              "      <td>0.9198</td>\n",
              "      <td>0.924625</td>\n",
              "    </tr>\n",
              "    <tr>\n",
              "      <th>1</th>\n",
              "      <td>0.9205</td>\n",
              "      <td>0.926583</td>\n",
              "    </tr>\n",
              "    <tr>\n",
              "      <th rowspan=\"4\" valign=\"top\">30000</th>\n",
              "      <th rowspan=\"2\" valign=\"top\">LeNet</th>\n",
              "      <th>0</th>\n",
              "      <td>0.9915</td>\n",
              "      <td>0.999000</td>\n",
              "    </tr>\n",
              "    <tr>\n",
              "      <th>1</th>\n",
              "      <td>0.9908</td>\n",
              "      <td>0.998133</td>\n",
              "    </tr>\n",
              "    <tr>\n",
              "      <th rowspan=\"2\" valign=\"top\">Softmax Regression</th>\n",
              "      <th>0</th>\n",
              "      <td>0.9246</td>\n",
              "      <td>0.927433</td>\n",
              "    </tr>\n",
              "    <tr>\n",
              "      <th>1</th>\n",
              "      <td>0.9250</td>\n",
              "      <td>0.926533</td>\n",
              "    </tr>\n",
              "    <tr>\n",
              "      <th rowspan=\"4\" valign=\"top\">36000</th>\n",
              "      <th rowspan=\"2\" valign=\"top\">LeNet</th>\n",
              "      <th>0</th>\n",
              "      <td>0.9917</td>\n",
              "      <td>0.998028</td>\n",
              "    </tr>\n",
              "    <tr>\n",
              "      <th>1</th>\n",
              "      <td>0.9903</td>\n",
              "      <td>0.998278</td>\n",
              "    </tr>\n",
              "    <tr>\n",
              "      <th rowspan=\"2\" valign=\"top\">Softmax Regression</th>\n",
              "      <th>0</th>\n",
              "      <td>0.9243</td>\n",
              "      <td>0.927528</td>\n",
              "    </tr>\n",
              "    <tr>\n",
              "      <th>1</th>\n",
              "      <td>0.9256</td>\n",
              "      <td>0.927306</td>\n",
              "    </tr>\n",
              "    <tr>\n",
              "      <th rowspan=\"4\" valign=\"top\">42000</th>\n",
              "      <th rowspan=\"2\" valign=\"top\">LeNet</th>\n",
              "      <th>0</th>\n",
              "      <td>0.9887</td>\n",
              "      <td>0.996238</td>\n",
              "    </tr>\n",
              "    <tr>\n",
              "      <th>1</th>\n",
              "      <td>0.9917</td>\n",
              "      <td>0.998738</td>\n",
              "    </tr>\n",
              "    <tr>\n",
              "      <th rowspan=\"2\" valign=\"top\">Softmax Regression</th>\n",
              "      <th>0</th>\n",
              "      <td>0.9241</td>\n",
              "      <td>0.928143</td>\n",
              "    </tr>\n",
              "    <tr>\n",
              "      <th>1</th>\n",
              "      <td>0.9264</td>\n",
              "      <td>0.927548</td>\n",
              "    </tr>\n",
              "    <tr>\n",
              "      <th rowspan=\"4\" valign=\"top\">48000</th>\n",
              "      <th rowspan=\"2\" valign=\"top\">LeNet</th>\n",
              "      <th>0</th>\n",
              "      <td>0.9896</td>\n",
              "      <td>0.996479</td>\n",
              "    </tr>\n",
              "    <tr>\n",
              "      <th>1</th>\n",
              "      <td>0.9922</td>\n",
              "      <td>0.998438</td>\n",
              "    </tr>\n",
              "    <tr>\n",
              "      <th rowspan=\"2\" valign=\"top\">Softmax Regression</th>\n",
              "      <th>0</th>\n",
              "      <td>0.9247</td>\n",
              "      <td>0.928146</td>\n",
              "    </tr>\n",
              "    <tr>\n",
              "      <th>1</th>\n",
              "      <td>0.9256</td>\n",
              "      <td>0.927708</td>\n",
              "    </tr>\n",
              "    <tr>\n",
              "      <th rowspan=\"4\" valign=\"top\">54000</th>\n",
              "      <th rowspan=\"2\" valign=\"top\">LeNet</th>\n",
              "      <th>0</th>\n",
              "      <td>0.9921</td>\n",
              "      <td>0.998722</td>\n",
              "    </tr>\n",
              "    <tr>\n",
              "      <th>1</th>\n",
              "      <td>0.9925</td>\n",
              "      <td>0.999056</td>\n",
              "    </tr>\n",
              "    <tr>\n",
              "      <th rowspan=\"2\" valign=\"top\">Softmax Regression</th>\n",
              "      <th>0</th>\n",
              "      <td>0.9247</td>\n",
              "      <td>0.929352</td>\n",
              "    </tr>\n",
              "    <tr>\n",
              "      <th>1</th>\n",
              "      <td>0.9276</td>\n",
              "      <td>0.929222</td>\n",
              "    </tr>\n",
              "    <tr>\n",
              "      <th rowspan=\"4\" valign=\"top\">60000</th>\n",
              "      <th rowspan=\"2\" valign=\"top\">LeNet</th>\n",
              "      <th>0</th>\n",
              "      <td>0.9914</td>\n",
              "      <td>0.998017</td>\n",
              "    </tr>\n",
              "    <tr>\n",
              "      <th>1</th>\n",
              "      <td>0.9921</td>\n",
              "      <td>0.998567</td>\n",
              "    </tr>\n",
              "    <tr>\n",
              "      <th rowspan=\"2\" valign=\"top\">Softmax Regression</th>\n",
              "      <th>0</th>\n",
              "      <td>0.9269</td>\n",
              "      <td>0.929650</td>\n",
              "    </tr>\n",
              "    <tr>\n",
              "      <th>1</th>\n",
              "      <td>0.9246</td>\n",
              "      <td>0.929133</td>\n",
              "    </tr>\n",
              "  </tbody>\n",
              "</table>\n",
              "</div>\n",
              "    <div class=\"colab-df-buttons\">\n",
              "\n",
              "  <div class=\"colab-df-container\">\n",
              "    <button class=\"colab-df-convert\" onclick=\"convertToInteractive('df-6d6aa39f-1ab9-4474-95f9-0bba110abe4d')\"\n",
              "            title=\"Convert this dataframe to an interactive table.\"\n",
              "            style=\"display:none;\">\n",
              "\n",
              "  <svg xmlns=\"http://www.w3.org/2000/svg\" height=\"24px\" viewBox=\"0 -960 960 960\">\n",
              "    <path d=\"M120-120v-720h720v720H120Zm60-500h600v-160H180v160Zm220 220h160v-160H400v160Zm0 220h160v-160H400v160ZM180-400h160v-160H180v160Zm440 0h160v-160H620v160ZM180-180h160v-160H180v160Zm440 0h160v-160H620v160Z\"/>\n",
              "  </svg>\n",
              "    </button>\n",
              "\n",
              "  <style>\n",
              "    .colab-df-container {\n",
              "      display:flex;\n",
              "      gap: 12px;\n",
              "    }\n",
              "\n",
              "    .colab-df-convert {\n",
              "      background-color: #E8F0FE;\n",
              "      border: none;\n",
              "      border-radius: 50%;\n",
              "      cursor: pointer;\n",
              "      display: none;\n",
              "      fill: #1967D2;\n",
              "      height: 32px;\n",
              "      padding: 0 0 0 0;\n",
              "      width: 32px;\n",
              "    }\n",
              "\n",
              "    .colab-df-convert:hover {\n",
              "      background-color: #E2EBFA;\n",
              "      box-shadow: 0px 1px 2px rgba(60, 64, 67, 0.3), 0px 1px 3px 1px rgba(60, 64, 67, 0.15);\n",
              "      fill: #174EA6;\n",
              "    }\n",
              "\n",
              "    .colab-df-buttons div {\n",
              "      margin-bottom: 4px;\n",
              "    }\n",
              "\n",
              "    [theme=dark] .colab-df-convert {\n",
              "      background-color: #3B4455;\n",
              "      fill: #D2E3FC;\n",
              "    }\n",
              "\n",
              "    [theme=dark] .colab-df-convert:hover {\n",
              "      background-color: #434B5C;\n",
              "      box-shadow: 0px 1px 3px 1px rgba(0, 0, 0, 0.15);\n",
              "      filter: drop-shadow(0px 1px 2px rgba(0, 0, 0, 0.3));\n",
              "      fill: #FFFFFF;\n",
              "    }\n",
              "  </style>\n",
              "\n",
              "    <script>\n",
              "      const buttonEl =\n",
              "        document.querySelector('#df-6d6aa39f-1ab9-4474-95f9-0bba110abe4d button.colab-df-convert');\n",
              "      buttonEl.style.display =\n",
              "        google.colab.kernel.accessAllowed ? 'block' : 'none';\n",
              "\n",
              "      async function convertToInteractive(key) {\n",
              "        const element = document.querySelector('#df-6d6aa39f-1ab9-4474-95f9-0bba110abe4d');\n",
              "        const dataTable =\n",
              "          await google.colab.kernel.invokeFunction('convertToInteractive',\n",
              "                                                    [key], {});\n",
              "        if (!dataTable) return;\n",
              "\n",
              "        const docLinkHtml = 'Like what you see? Visit the ' +\n",
              "          '<a target=\"_blank\" href=https://colab.research.google.com/notebooks/data_table.ipynb>data table notebook</a>'\n",
              "          + ' to learn more about interactive tables.';\n",
              "        element.innerHTML = '';\n",
              "        dataTable['output_type'] = 'display_data';\n",
              "        await google.colab.output.renderOutput(dataTable, element);\n",
              "        const docLink = document.createElement('div');\n",
              "        docLink.innerHTML = docLinkHtml;\n",
              "        element.appendChild(docLink);\n",
              "      }\n",
              "    </script>\n",
              "  </div>\n",
              "\n",
              "\n",
              "    <div id=\"df-1abfd498-0357-48e7-a07e-bd878e72ab46\">\n",
              "      <button class=\"colab-df-quickchart\" onclick=\"quickchart('df-1abfd498-0357-48e7-a07e-bd878e72ab46')\"\n",
              "                title=\"Suggest charts\"\n",
              "                style=\"display:none;\">\n",
              "\n",
              "<svg xmlns=\"http://www.w3.org/2000/svg\" height=\"24px\"viewBox=\"0 0 24 24\"\n",
              "     width=\"24px\">\n",
              "    <g>\n",
              "        <path d=\"M19 3H5c-1.1 0-2 .9-2 2v14c0 1.1.9 2 2 2h14c1.1 0 2-.9 2-2V5c0-1.1-.9-2-2-2zM9 17H7v-7h2v7zm4 0h-2V7h2v10zm4 0h-2v-4h2v4z\"/>\n",
              "    </g>\n",
              "</svg>\n",
              "      </button>\n",
              "\n",
              "<style>\n",
              "  .colab-df-quickchart {\n",
              "      --bg-color: #E8F0FE;\n",
              "      --fill-color: #1967D2;\n",
              "      --hover-bg-color: #E2EBFA;\n",
              "      --hover-fill-color: #174EA6;\n",
              "      --disabled-fill-color: #AAA;\n",
              "      --disabled-bg-color: #DDD;\n",
              "  }\n",
              "\n",
              "  [theme=dark] .colab-df-quickchart {\n",
              "      --bg-color: #3B4455;\n",
              "      --fill-color: #D2E3FC;\n",
              "      --hover-bg-color: #434B5C;\n",
              "      --hover-fill-color: #FFFFFF;\n",
              "      --disabled-bg-color: #3B4455;\n",
              "      --disabled-fill-color: #666;\n",
              "  }\n",
              "\n",
              "  .colab-df-quickchart {\n",
              "    background-color: var(--bg-color);\n",
              "    border: none;\n",
              "    border-radius: 50%;\n",
              "    cursor: pointer;\n",
              "    display: none;\n",
              "    fill: var(--fill-color);\n",
              "    height: 32px;\n",
              "    padding: 0;\n",
              "    width: 32px;\n",
              "  }\n",
              "\n",
              "  .colab-df-quickchart:hover {\n",
              "    background-color: var(--hover-bg-color);\n",
              "    box-shadow: 0 1px 2px rgba(60, 64, 67, 0.3), 0 1px 3px 1px rgba(60, 64, 67, 0.15);\n",
              "    fill: var(--button-hover-fill-color);\n",
              "  }\n",
              "\n",
              "  .colab-df-quickchart-complete:disabled,\n",
              "  .colab-df-quickchart-complete:disabled:hover {\n",
              "    background-color: var(--disabled-bg-color);\n",
              "    fill: var(--disabled-fill-color);\n",
              "    box-shadow: none;\n",
              "  }\n",
              "\n",
              "  .colab-df-spinner {\n",
              "    border: 2px solid var(--fill-color);\n",
              "    border-color: transparent;\n",
              "    border-bottom-color: var(--fill-color);\n",
              "    animation:\n",
              "      spin 1s steps(1) infinite;\n",
              "  }\n",
              "\n",
              "  @keyframes spin {\n",
              "    0% {\n",
              "      border-color: transparent;\n",
              "      border-bottom-color: var(--fill-color);\n",
              "      border-left-color: var(--fill-color);\n",
              "    }\n",
              "    20% {\n",
              "      border-color: transparent;\n",
              "      border-left-color: var(--fill-color);\n",
              "      border-top-color: var(--fill-color);\n",
              "    }\n",
              "    30% {\n",
              "      border-color: transparent;\n",
              "      border-left-color: var(--fill-color);\n",
              "      border-top-color: var(--fill-color);\n",
              "      border-right-color: var(--fill-color);\n",
              "    }\n",
              "    40% {\n",
              "      border-color: transparent;\n",
              "      border-right-color: var(--fill-color);\n",
              "      border-top-color: var(--fill-color);\n",
              "    }\n",
              "    60% {\n",
              "      border-color: transparent;\n",
              "      border-right-color: var(--fill-color);\n",
              "    }\n",
              "    80% {\n",
              "      border-color: transparent;\n",
              "      border-right-color: var(--fill-color);\n",
              "      border-bottom-color: var(--fill-color);\n",
              "    }\n",
              "    90% {\n",
              "      border-color: transparent;\n",
              "      border-bottom-color: var(--fill-color);\n",
              "    }\n",
              "  }\n",
              "</style>\n",
              "\n",
              "      <script>\n",
              "        async function quickchart(key) {\n",
              "          const quickchartButtonEl =\n",
              "            document.querySelector('#' + key + ' button');\n",
              "          quickchartButtonEl.disabled = true;  // To prevent multiple clicks.\n",
              "          quickchartButtonEl.classList.add('colab-df-spinner');\n",
              "          try {\n",
              "            const charts = await google.colab.kernel.invokeFunction(\n",
              "                'suggestCharts', [key], {});\n",
              "          } catch (error) {\n",
              "            console.error('Error during call to suggestCharts:', error);\n",
              "          }\n",
              "          quickchartButtonEl.classList.remove('colab-df-spinner');\n",
              "          quickchartButtonEl.classList.add('colab-df-quickchart-complete');\n",
              "        }\n",
              "        (() => {\n",
              "          let quickchartButtonEl =\n",
              "            document.querySelector('#df-1abfd498-0357-48e7-a07e-bd878e72ab46 button');\n",
              "          quickchartButtonEl.style.display =\n",
              "            google.colab.kernel.accessAllowed ? 'block' : 'none';\n",
              "        })();\n",
              "      </script>\n",
              "    </div>\n",
              "\n",
              "  <div id=\"id_849746a0-a7fa-42bd-84ab-531a8ef2efc6\">\n",
              "    <style>\n",
              "      .colab-df-generate {\n",
              "        background-color: #E8F0FE;\n",
              "        border: none;\n",
              "        border-radius: 50%;\n",
              "        cursor: pointer;\n",
              "        display: none;\n",
              "        fill: #1967D2;\n",
              "        height: 32px;\n",
              "        padding: 0 0 0 0;\n",
              "        width: 32px;\n",
              "      }\n",
              "\n",
              "      .colab-df-generate:hover {\n",
              "        background-color: #E2EBFA;\n",
              "        box-shadow: 0px 1px 2px rgba(60, 64, 67, 0.3), 0px 1px 3px 1px rgba(60, 64, 67, 0.15);\n",
              "        fill: #174EA6;\n",
              "      }\n",
              "\n",
              "      [theme=dark] .colab-df-generate {\n",
              "        background-color: #3B4455;\n",
              "        fill: #D2E3FC;\n",
              "      }\n",
              "\n",
              "      [theme=dark] .colab-df-generate:hover {\n",
              "        background-color: #434B5C;\n",
              "        box-shadow: 0px 1px 3px 1px rgba(0, 0, 0, 0.15);\n",
              "        filter: drop-shadow(0px 1px 2px rgba(0, 0, 0, 0.3));\n",
              "        fill: #FFFFFF;\n",
              "      }\n",
              "    </style>\n",
              "    <button class=\"colab-df-generate\" onclick=\"generateWithVariable('results')\"\n",
              "            title=\"Generate code using this dataframe.\"\n",
              "            style=\"display:none;\">\n",
              "\n",
              "  <svg xmlns=\"http://www.w3.org/2000/svg\" height=\"24px\"viewBox=\"0 0 24 24\"\n",
              "       width=\"24px\">\n",
              "    <path d=\"M7,19H8.4L18.45,9,17,7.55,7,17.6ZM5,21V16.75L18.45,3.32a2,2,0,0,1,2.83,0l1.4,1.43a1.91,1.91,0,0,1,.58,1.4,1.91,1.91,0,0,1-.58,1.4L9.25,21ZM18.45,9,17,7.55Zm-12,3A5.31,5.31,0,0,0,4.9,8.1,5.31,5.31,0,0,0,1,6.5,5.31,5.31,0,0,0,4.9,4.9,5.31,5.31,0,0,0,6.5,1,5.31,5.31,0,0,0,8.1,4.9,5.31,5.31,0,0,0,12,6.5,5.46,5.46,0,0,0,6.5,12Z\"/>\n",
              "  </svg>\n",
              "    </button>\n",
              "    <script>\n",
              "      (() => {\n",
              "      const buttonEl =\n",
              "        document.querySelector('#id_849746a0-a7fa-42bd-84ab-531a8ef2efc6 button.colab-df-generate');\n",
              "      buttonEl.style.display =\n",
              "        google.colab.kernel.accessAllowed ? 'block' : 'none';\n",
              "\n",
              "      buttonEl.onclick = () => {\n",
              "        google.colab.notebook.generateWithVariable('results');\n",
              "      }\n",
              "      })();\n",
              "    </script>\n",
              "  </div>\n",
              "\n",
              "    </div>\n",
              "  </div>\n"
            ],
            "application/vnd.google.colaboratory.intrinsic+json": {
              "type": "dataframe",
              "variable_name": "results",
              "summary": "{\n  \"name\": \"results\",\n  \"rows\": 40,\n  \"fields\": [\n    {\n      \"column\": \"test_accuracy\",\n      \"properties\": {\n        \"dtype\": \"number\",\n        \"std\": 0.034776106488870626,\n        \"min\": 0.9032999873161316,\n        \"max\": 0.9925000071525574,\n        \"num_unique_values\": 34,\n        \"samples\": [\n          0.9204999804496765,\n          0.925000011920929,\n          0.9922000169754028\n        ],\n        \"semantic_type\": \"\",\n        \"description\": \"\"\n      }\n    },\n    {\n      \"column\": \"train_accuracy\",\n      \"properties\": {\n        \"dtype\": \"number\",\n        \"std\": 0.03654582044893448,\n        \"min\": 0.9138333201408386,\n        \"max\": 0.9991666674613953,\n        \"num_unique_values\": 40,\n        \"samples\": [\n          0.9265333414077759,\n          0.9990000128746033,\n          0.9265833497047424\n        ],\n        \"semantic_type\": \"\",\n        \"description\": \"\"\n      }\n    }\n  ]\n}"
            }
          },
          "metadata": {},
          "execution_count": 18
        }
      ]
    },
    {
      "cell_type": "code",
      "source": [
        "p = ggplot(results.reset_index(), aes(x='size', y='test_accuracy', color='model'))\n",
        "p += geom_point()\n",
        "p += geom_smooth()\n",
        "p += labs(x='Dataset Size', y='Test Accuracy', title='Test Accuracy vs. Dataset Size')\n",
        "p"
      ],
      "metadata": {
        "colab": {
          "base_uri": "https://localhost:8080/",
          "height": 532
        },
        "id": "50E3m-bJa_HA",
        "outputId": "d9164066-b44e-466c-9a1a-a9d492379248"
      },
      "id": "50E3m-bJa_HA",
      "execution_count": 33,
      "outputs": [
        {
          "output_type": "stream",
          "name": "stderr",
          "text": [
            "/usr/local/lib/python3.11/dist-packages/plotnine/stats/smoothers.py:347: PlotnineWarning: Confidence intervals are not yet implemented for lowess smoothings.\n",
            "/usr/local/lib/python3.11/dist-packages/plotnine/stats/smoothers.py:347: PlotnineWarning: Confidence intervals are not yet implemented for lowess smoothings.\n"
          ]
        },
        {
          "output_type": "display_data",
          "data": {
            "image/png": "[encoded data removed]"
          },
          "metadata": {
            "image/png": {
              "width": 640,
              "height": 480
            }
          }
        }
      ]
    },
    {
      "cell_type": "markdown",
      "id": "f595f119-2f7d-46b8-9c4e-65b6817c9c9b",
      "metadata": {
        "id": "f595f119-2f7d-46b8-9c4e-65b6817c9c9b"
      },
      "source": [
        "## 1.2. The impact of training set on the empirical data scaling law (<font color='red'>1p</font>)\n",
        "\n",
        "To elliminate the impact of test set fluctuations generate a syntetic test set using the image generatof from the tutorial [02_relative_accuracy_estimation.ipynb]('./tutorials/data-scaling/02_relative_accuracy_estimation.ipynb). You need the raw generator `generate_samples`. To generate the test set with it you need to fix sample sizes for all classes. Do it in a manner that you have 100,000 samples. Rerun the experiment from Exercise 1.1 so that there are at least to different runs. Draw the corresponding scaling laws for one model. Think how you should visualise the fluctuations and what should be the accuracy values for line-graph.\n",
        "\n"
      ]
    },
    {
      "cell_type": "code",
      "source": [
        "from image_generators.conditional_gan import generate_samples\n",
        "from image_generators.conditional_gan.default_components import config\n",
        "\n",
        "generator = load_keras_model('../../image-generation/models/mnist_gan_generator.keras')\n",
        "\n",
        "sixes = generate_samples(generator, config, label=6, sample_count=4, verbose=0)"
      ],
      "metadata": {
        "colab": {
          "base_uri": "https://localhost:8080/",
          "height": 315
        },
        "id": "qEqpaDvjTHxD",
        "outputId": "ccd3bdbe-f2e6-4ebb-debd-fe807d28a1c9"
      },
      "id": "qEqpaDvjTHxD",
      "execution_count": 17,
      "outputs": [
        {
          "output_type": "error",
          "ename": "ModuleNotFoundError",
          "evalue": "No module named 'image_generators'",
          "traceback": [
            "\u001b[0;31m---------------------------------------------------------------------------\u001b[0m",
            "\u001b[0;31mModuleNotFoundError\u001b[0m                       Traceback (most recent call last)",
            "\u001b[0;32m<ipython-input-17-16d61d7eab55>\u001b[0m in \u001b[0;36m<cell line: 0>\u001b[0;34m()\u001b[0m\n\u001b[0;32m----> 1\u001b[0;31m \u001b[0;32mfrom\u001b[0m \u001b[0mimage_generators\u001b[0m\u001b[0;34m.\u001b[0m\u001b[0mconditional_gan\u001b[0m \u001b[0;32mimport\u001b[0m \u001b[0mgenerate_samples\u001b[0m\u001b[0;34m\u001b[0m\u001b[0;34m\u001b[0m\u001b[0m\n\u001b[0m",
            "\u001b[0;31mModuleNotFoundError\u001b[0m: No module named 'image_generators'",
            "",
            "\u001b[0;31m---------------------------------------------------------------------------\u001b[0;32m\nNOTE: If your import is failing due to a missing package, you can\nmanually install dependencies using either !pip or !apt.\n\nTo view examples of installing some common dependencies, click the\n\"Open Examples\" button below.\n\u001b[0;31m---------------------------------------------------------------------------\u001b[0m\n"
          ],
          "errorDetails": {
            "actions": [
              {
                "action": "open_url",
                "actionText": "Open Examples",
                "url": "/notebooks/snippets/importing_libraries.ipynb"
              }
            ]
          }
        }
      ]
    },
    {
      "cell_type": "markdown",
      "id": "c9217d27-e00e-4251-85fb-5f720aa43acb",
      "metadata": {
        "id": "c9217d27-e00e-4251-85fb-5f720aa43acb"
      },
      "source": [
        "## 1.3. Scaling law with refined precision using relative performance evaluation (<font color='red'>1p</font>)\n",
        "\n",
        "Exercise 1.2 used a really big testset to squash corresponding fluctuations. This is not practical use the relative performance estimation metod form tutorial [02_relative_accuracy_estimation]('./tutorials/data-scaling/02_relative_accuracy_estimation.ipynb) to find relative differences in accuracies. Again, you can assume that you have 100,000 element test set but now it is unlabelled. Use the budget of $10,000$ labes to compute enough performance differences to recover the shape of the graph. A corresponding scaling laws for one model and single run is enough.  \n"
      ]
    },
    {
      "cell_type": "code",
      "source": [],
      "metadata": {
        "id": "NxVUGTxPWPgi"
      },
      "id": "NxVUGTxPWPgi",
      "execution_count": null,
      "outputs": []
    },
    {
      "cell_type": "markdown",
      "id": "3afc62e1-9efc-4bbd-b7a6-3448514cdefd",
      "metadata": {
        "id": "3afc62e1-9efc-4bbd-b7a6-3448514cdefd"
      },
      "source": [
        "## 1.4. Evaluation of precision-recall graphs as a function of training set size (<font color='red'>1p</font>)\n",
        "\n",
        "Use the training sets from Exercise 1.1 to train to models. Compute the corrsponding precision-recall graphs for LeNet-5 model and draw them on the same graph. Note that these graphs make sense only for binary classification. Thus you need to cast the problem back to binary classification. For that choose the label `8` as the positive class and merge all other classes to negative class. You can train binary classification models or extract the score corresponding to the label `8` and pass it to `sklearn.metrics.precision_recall_curve`. Interpret the image you get."
      ]
    },
    {
      "cell_type": "markdown",
      "id": "10d5274c-ba8b-4e15-8ee1-4a738209a30c",
      "metadata": {
        "id": "10d5274c-ba8b-4e15-8ee1-4a738209a30c"
      },
      "source": [
        "## 1.5 How randomness impacts performnce$^*$ (<font color='red'>3p</font>)\n",
        "\n",
        "There are three sources of randomness that cause fluctuations at measured test error:\n",
        "* randomness in model training\n",
        "* randomness in training set sampling\n",
        "* randomness in test set sampling\n",
        "\n",
        "Use the image generatof from the tutorial [02_relative_accuracy_estimation.ipynb]('./tutorials/data-scaling/02_relative_accuracy_estimation.ipynb) to study this.\n",
        "By design all three sources of randomness are uncorrelated. However, this does not mean that we can split the variance into three separate components. Fix two components and extimate the residual variance of accuracy. In particular, fix training set size, number of epochs and test set size in your study. Try to prove that variance due to training randomness is roughrly the same regardless of the traing and test set choices and so on. Draw some visualisations and interpret results.     \n",
        "\n"
      ]
    }
  ],
  "metadata": {
    "kernelspec": {
      "display_name": "Python 3",
      "name": "python3"
    },
    "language_info": {
      "codemirror_mode": {
        "name": "ipython",
        "version": 3
      },
      "file_extension": ".py",
      "mimetype": "text/x-python",
      "name": "python",
      "nbconvert_exporter": "python",
      "pygments_lexer": "ipython3",
      "version": "3.10.16"
    },
    "colab": {
      "provenance": [],
      "gpuType": "T4",
      "include_colab_link": true
    },
    "accelerator": "GPU",
    "widgets": {
      "application/vnd.jupyter.widget-state+json": {
        "2a9733ee1a804108be381aa351c4f949": {
          "model_module": "@jupyter-widgets/controls",
          "model_name": "HBoxModel",
          "model_module_version": "1.5.0",
          "state": {
            "_dom_classes": [],
            "_model_module": "@jupyter-widgets/controls",
            "_model_module_version": "1.5.0",
            "_model_name": "HBoxModel",
            "_view_count": null,
            "_view_module": "@jupyter-widgets/controls",
            "_view_module_version": "1.5.0",
            "_view_name": "HBoxView",
            "box_style": "",
            "children": [
              "IPY_MODEL_9bdf9243537d4a90b9b13e0028090e34",
              "IPY_MODEL_6d99d8076cdc451daf66cc612d21300b",
              "IPY_MODEL_04c1ba64cabc4bc98b6c3b132431ed1b"
            ],
            "layout": "IPY_MODEL_d6a104d2e2574e22a0516ebd62b9a64c"
          }
        },
        "9bdf9243537d4a90b9b13e0028090e34": {
          "model_module": "@jupyter-widgets/controls",
          "model_name": "HTMLModel",
          "model_module_version": "1.5.0",
          "state": {
            "_dom_classes": [],
            "_model_module": "@jupyter-widgets/controls",
            "_model_module_version": "1.5.0",
            "_model_name": "HTMLModel",
            "_view_count": null,
            "_view_module": "@jupyter-widgets/controls",
            "_view_module_version": "1.5.0",
            "_view_name": "HTMLView",
            "description": "",
            "description_tooltip": null,
            "layout": "IPY_MODEL_3a562ae69b76425cb9a1c911d14986f1",
            "placeholder": "​",
            "style": "IPY_MODEL_cb36b5ed4a3d46e5967ecc5d3d5e0e3b",
            "value": "100%"
          }
        },
        "6d99d8076cdc451daf66cc612d21300b": {
          "model_module": "@jupyter-widgets/controls",
          "model_name": "FloatProgressModel",
          "model_module_version": "1.5.0",
          "state": {
            "_dom_classes": [],
            "_model_module": "@jupyter-widgets/controls",
            "_model_module_version": "1.5.0",
            "_model_name": "FloatProgressModel",
            "_view_count": null,
            "_view_module": "@jupyter-widgets/controls",
            "_view_module_version": "1.5.0",
            "_view_name": "ProgressView",
            "bar_style": "success",
            "description": "",
            "description_tooltip": null,
            "layout": "IPY_MODEL_6c4cbb943637435a8641fb44df91c7af",
            "max": 10,
            "min": 0,
            "orientation": "horizontal",
            "style": "IPY_MODEL_809692d2cb264e95ac9dd9b9f66e8789",
            "value": 10
          }
        },
        "04c1ba64cabc4bc98b6c3b132431ed1b": {
          "model_module": "@jupyter-widgets/controls",
          "model_name": "HTMLModel",
          "model_module_version": "1.5.0",
          "state": {
            "_dom_classes": [],
            "_model_module": "@jupyter-widgets/controls",
            "_model_module_version": "1.5.0",
            "_model_name": "HTMLModel",
            "_view_count": null,
            "_view_module": "@jupyter-widgets/controls",
            "_view_module_version": "1.5.0",
            "_view_name": "HTMLView",
            "description": "",
            "description_tooltip": null,
            "layout": "IPY_MODEL_748e72347b8c413f9d7f489809d7a12d",
            "placeholder": "​",
            "style": "IPY_MODEL_61875b0e5fcb41f9b2b8e5b53d6c7794",
            "value": " 10/10 [12:40&lt;00:00, 106.82s/it]"
          }
        },
        "d6a104d2e2574e22a0516ebd62b9a64c": {
          "model_module": "@jupyter-widgets/base",
          "model_name": "LayoutModel",
          "model_module_version": "1.2.0",
          "state": {
            "_model_module": "@jupyter-widgets/base",
            "_model_module_version": "1.2.0",
            "_model_name": "LayoutModel",
            "_view_count": null,
            "_view_module": "@jupyter-widgets/base",
            "_view_module_version": "1.2.0",
            "_view_name": "LayoutView",
            "align_content": null,
            "align_items": null,
            "align_self": null,
            "border": null,
            "bottom": null,
            "display": null,
            "flex": null,
            "flex_flow": null,
            "grid_area": null,
            "grid_auto_columns": null,
            "grid_auto_flow": null,
            "grid_auto_rows": null,
            "grid_column": null,
            "grid_gap": null,
            "grid_row": null,
            "grid_template_areas": null,
            "grid_template_columns": null,
            "grid_template_rows": null,
            "height": null,
            "justify_content": null,
            "justify_items": null,
            "left": null,
            "margin": null,
            "max_height": null,
            "max_width": null,
            "min_height": null,
            "min_width": null,
            "object_fit": null,
            "object_position": null,
            "order": null,
            "overflow": null,
            "overflow_x": null,
            "overflow_y": null,
            "padding": null,
            "right": null,
            "top": null,
            "visibility": null,
            "width": null
          }
        },
        "3a562ae69b76425cb9a1c911d14986f1": {
          "model_module": "@jupyter-widgets/base",
          "model_name": "LayoutModel",
          "model_module_version": "1.2.0",
          "state": {
            "_model_module": "@jupyter-widgets/base",
            "_model_module_version": "1.2.0",
            "_model_name": "LayoutModel",
            "_view_count": null,
            "_view_module": "@jupyter-widgets/base",
            "_view_module_version": "1.2.0",
            "_view_name": "LayoutView",
            "align_content": null,
            "align_items": null,
            "align_self": null,
            "border": null,
            "bottom": null,
            "display": null,
            "flex": null,
            "flex_flow": null,
            "grid_area": null,
            "grid_auto_columns": null,
            "grid_auto_flow": null,
            "grid_auto_rows": null,
            "grid_column": null,
            "grid_gap": null,
            "grid_row": null,
            "grid_template_areas": null,
            "grid_template_columns": null,
            "grid_template_rows": null,
            "height": null,
            "justify_content": null,
            "justify_items": null,
            "left": null,
            "margin": null,
            "max_height": null,
            "max_width": null,
            "min_height": null,
            "min_width": null,
            "object_fit": null,
            "object_position": null,
            "order": null,
            "overflow": null,
            "overflow_x": null,
            "overflow_y": null,
            "padding": null,
            "right": null,
            "top": null,
            "visibility": null,
            "width": null
          }
        },
        "cb36b5ed4a3d46e5967ecc5d3d5e0e3b": {
          "model_module": "@jupyter-widgets/controls",
          "model_name": "DescriptionStyleModel",
          "model_module_version": "1.5.0",
          "state": {
            "_model_module": "@jupyter-widgets/controls",
            "_model_module_version": "1.5.0",
            "_model_name": "DescriptionStyleModel",
            "_view_count": null,
            "_view_module": "@jupyter-widgets/base",
            "_view_module_version": "1.2.0",
            "_view_name": "StyleView",
            "description_width": ""
          }
        },
        "6c4cbb943637435a8641fb44df91c7af": {
          "model_module": "@jupyter-widgets/base",
          "model_name": "LayoutModel",
          "model_module_version": "1.2.0",
          "state": {
            "_model_module": "@jupyter-widgets/base",
            "_model_module_version": "1.2.0",
            "_model_name": "LayoutModel",
            "_view_count": null,
            "_view_module": "@jupyter-widgets/base",
            "_view_module_version": "1.2.0",
            "_view_name": "LayoutView",
            "align_content": null,
            "align_items": null,
            "align_self": null,
            "border": null,
            "bottom": null,
            "display": null,
            "flex": null,
            "flex_flow": null,
            "grid_area": null,
            "grid_auto_columns": null,
            "grid_auto_flow": null,
            "grid_auto_rows": null,
            "grid_column": null,
            "grid_gap": null,
            "grid_row": null,
            "grid_template_areas": null,
            "grid_template_columns": null,
            "grid_template_rows": null,
            "height": null,
            "justify_content": null,
            "justify_items": null,
            "left": null,
            "margin": null,
            "max_height": null,
            "max_width": null,
            "min_height": null,
            "min_width": null,
            "object_fit": null,
            "object_position": null,
            "order": null,
            "overflow": null,
            "overflow_x": null,
            "overflow_y": null,
            "padding": null,
            "right": null,
            "top": null,
            "visibility": null,
            "width": null
          }
        },
        "809692d2cb264e95ac9dd9b9f66e8789": {
          "model_module": "@jupyter-widgets/controls",
          "model_name": "ProgressStyleModel",
          "model_module_version": "1.5.0",
          "state": {
            "_model_module": "@jupyter-widgets/controls",
            "_model_module_version": "1.5.0",
            "_model_name": "ProgressStyleModel",
            "_view_count": null,
            "_view_module": "@jupyter-widgets/base",
            "_view_module_version": "1.2.0",
            "_view_name": "StyleView",
            "bar_color": null,
            "description_width": ""
          }
        },
        "748e72347b8c413f9d7f489809d7a12d": {
          "model_module": "@jupyter-widgets/base",
          "model_name": "LayoutModel",
          "model_module_version": "1.2.0",
          "state": {
            "_model_module": "@jupyter-widgets/base",
            "_model_module_version": "1.2.0",
            "_model_name": "LayoutModel",
            "_view_count": null,
            "_view_module": "@jupyter-widgets/base",
            "_view_module_version": "1.2.0",
            "_view_name": "LayoutView",
            "align_content": null,
            "align_items": null,
            "align_self": null,
            "border": null,
            "bottom": null,
            "display": null,
            "flex": null,
            "flex_flow": null,
            "grid_area": null,
            "grid_auto_columns": null,
            "grid_auto_flow": null,
            "grid_auto_rows": null,
            "grid_column": null,
            "grid_gap": null,
            "grid_row": null,
            "grid_template_areas": null,
            "grid_template_columns": null,
            "grid_template_rows": null,
            "height": null,
            "justify_content": null,
            "justify_items": null,
            "left": null,
            "margin": null,
            "max_height": null,
            "max_width": null,
            "min_height": null,
            "min_width": null,
            "object_fit": null,
            "object_position": null,
            "order": null,
            "overflow": null,
            "overflow_x": null,
            "overflow_y": null,
            "padding": null,
            "right": null,
            "top": null,
            "visibility": null,
            "width": null
          }
        },
        "61875b0e5fcb41f9b2b8e5b53d6c7794": {
          "model_module": "@jupyter-widgets/controls",
          "model_name": "DescriptionStyleModel",
          "model_module_version": "1.5.0",
          "state": {
            "_model_module": "@jupyter-widgets/controls",
            "_model_module_version": "1.5.0",
            "_model_name": "DescriptionStyleModel",
            "_view_count": null,
            "_view_module": "@jupyter-widgets/base",
            "_view_module_version": "1.2.0",
            "_view_name": "StyleView",
            "description_width": ""
          }
        },
        "ff93d8e61d934040b261e954fc844ddc": {
          "model_module": "@jupyter-widgets/controls",
          "model_name": "HBoxModel",
          "model_module_version": "1.5.0",
          "state": {
            "_dom_classes": [],
            "_model_module": "@jupyter-widgets/controls",
            "_model_module_version": "1.5.0",
            "_model_name": "HBoxModel",
            "_view_count": null,
            "_view_module": "@jupyter-widgets/controls",
            "_view_module_version": "1.5.0",
            "_view_name": "HBoxView",
            "box_style": "",
            "children": [
              "IPY_MODEL_e469457c39694c918f9e4603751b819e",
              "IPY_MODEL_96e0d234e2b1462fb4e55c9cc132358a",
              "IPY_MODEL_0c08981e35514ddf8cd23e6256102239"
            ],
            "layout": "IPY_MODEL_528b6f91ba89486db2f9df00c0af1de8"
          }
        },
        "e469457c39694c918f9e4603751b819e": {
          "model_module": "@jupyter-widgets/controls",
          "model_name": "HTMLModel",
          "model_module_version": "1.5.0",
          "state": {
            "_dom_classes": [],
            "_model_module": "@jupyter-widgets/controls",
            "_model_module_version": "1.5.0",
            "_model_name": "HTMLModel",
            "_view_count": null,
            "_view_module": "@jupyter-widgets/controls",
            "_view_module_version": "1.5.0",
            "_view_name": "HTMLView",
            "description": "",
            "description_tooltip": null,
            "layout": "IPY_MODEL_d33a95c3d4bf47ba9a9c70c80773aa00",
            "placeholder": "​",
            "style": "IPY_MODEL_9351a73c0dd84698bf76c8b19876db40",
            "value": "100%"
          }
        },
        "96e0d234e2b1462fb4e55c9cc132358a": {
          "model_module": "@jupyter-widgets/controls",
          "model_name": "FloatProgressModel",
          "model_module_version": "1.5.0",
          "state": {
            "_dom_classes": [],
            "_model_module": "@jupyter-widgets/controls",
            "_model_module_version": "1.5.0",
            "_model_name": "FloatProgressModel",
            "_view_count": null,
            "_view_module": "@jupyter-widgets/controls",
            "_view_module_version": "1.5.0",
            "_view_name": "ProgressView",
            "bar_style": "success",
            "description": "",
            "description_tooltip": null,
            "layout": "IPY_MODEL_f3af8eb63501458b854421809c960eb3",
            "max": 10,
            "min": 0,
            "orientation": "horizontal",
            "style": "IPY_MODEL_19b2137c01674109a4094d8047dbce28",
            "value": 10
          }
        },
        "0c08981e35514ddf8cd23e6256102239": {
          "model_module": "@jupyter-widgets/controls",
          "model_name": "HTMLModel",
          "model_module_version": "1.5.0",
          "state": {
            "_dom_classes": [],
            "_model_module": "@jupyter-widgets/controls",
            "_model_module_version": "1.5.0",
            "_model_name": "HTMLModel",
            "_view_count": null,
            "_view_module": "@jupyter-widgets/controls",
            "_view_module_version": "1.5.0",
            "_view_name": "HTMLView",
            "description": "",
            "description_tooltip": null,
            "layout": "IPY_MODEL_d2bd47a2b0bb41008b274f808c77edea",
            "placeholder": "​",
            "style": "IPY_MODEL_ce81f51ef9c54126a2bc957b39ae0f82",
            "value": " 10/10 [12:53&lt;00:00, 106.77s/it]"
          }
        },
        "528b6f91ba89486db2f9df00c0af1de8": {
          "model_module": "@jupyter-widgets/base",
          "model_name": "LayoutModel",
          "model_module_version": "1.2.0",
          "state": {
            "_model_module": "@jupyter-widgets/base",
            "_model_module_version": "1.2.0",
            "_model_name": "LayoutModel",
            "_view_count": null,
            "_view_module": "@jupyter-widgets/base",
            "_view_module_version": "1.2.0",
            "_view_name": "LayoutView",
            "align_content": null,
            "align_items": null,
            "align_self": null,
            "border": null,
            "bottom": null,
            "display": null,
            "flex": null,
            "flex_flow": null,
            "grid_area": null,
            "grid_auto_columns": null,
            "grid_auto_flow": null,
            "grid_auto_rows": null,
            "grid_column": null,
            "grid_gap": null,
            "grid_row": null,
            "grid_template_areas": null,
            "grid_template_columns": null,
            "grid_template_rows": null,
            "height": null,
            "justify_content": null,
            "justify_items": null,
            "left": null,
            "margin": null,
            "max_height": null,
            "max_width": null,
            "min_height": null,
            "min_width": null,
            "object_fit": null,
            "object_position": null,
            "order": null,
            "overflow": null,
            "overflow_x": null,
            "overflow_y": null,
            "padding": null,
            "right": null,
            "top": null,
            "visibility": null,
            "width": null
          }
        },
        "d33a95c3d4bf47ba9a9c70c80773aa00": {
          "model_module": "@jupyter-widgets/base",
          "model_name": "LayoutModel",
          "model_module_version": "1.2.0",
          "state": {
            "_model_module": "@jupyter-widgets/base",
            "_model_module_version": "1.2.0",
            "_model_name": "LayoutModel",
            "_view_count": null,
            "_view_module": "@jupyter-widgets/base",
            "_view_module_version": "1.2.0",
            "_view_name": "LayoutView",
            "align_content": null,
            "align_items": null,
            "align_self": null,
            "border": null,
            "bottom": null,
            "display": null,
            "flex": null,
            "flex_flow": null,
            "grid_area": null,
            "grid_auto_columns": null,
            "grid_auto_flow": null,
            "grid_auto_rows": null,
            "grid_column": null,
            "grid_gap": null,
            "grid_row": null,
            "grid_template_areas": null,
            "grid_template_columns": null,
            "grid_template_rows": null,
            "height": null,
            "justify_content": null,
            "justify_items": null,
            "left": null,
            "margin": null,
            "max_height": null,
            "max_width": null,
            "min_height": null,
            "min_width": null,
            "object_fit": null,
            "object_position": null,
            "order": null,
            "overflow": null,
            "overflow_x": null,
            "overflow_y": null,
            "padding": null,
            "right": null,
            "top": null,
            "visibility": null,
            "width": null
          }
        },
        "9351a73c0dd84698bf76c8b19876db40": {
          "model_module": "@jupyter-widgets/controls",
          "model_name": "DescriptionStyleModel",
          "model_module_version": "1.5.0",
          "state": {
            "_model_module": "@jupyter-widgets/controls",
            "_model_module_version": "1.5.0",
            "_model_name": "DescriptionStyleModel",
            "_view_count": null,
            "_view_module": "@jupyter-widgets/base",
            "_view_module_version": "1.2.0",
            "_view_name": "StyleView",
            "description_width": ""
          }
        },
        "f3af8eb63501458b854421809c960eb3": {
          "model_module": "@jupyter-widgets/base",
          "model_name": "LayoutModel",
          "model_module_version": "1.2.0",
          "state": {
            "_model_module": "@jupyter-widgets/base",
            "_model_module_version": "1.2.0",
            "_model_name": "LayoutModel",
            "_view_count": null,
            "_view_module": "@jupyter-widgets/base",
            "_view_module_version": "1.2.0",
            "_view_name": "LayoutView",
            "align_content": null,
            "align_items": null,
            "align_self": null,
            "border": null,
            "bottom": null,
            "display": null,
            "flex": null,
            "flex_flow": null,
            "grid_area": null,
            "grid_auto_columns": null,
            "grid_auto_flow": null,
            "grid_auto_rows": null,
            "grid_column": null,
            "grid_gap": null,
            "grid_row": null,
            "grid_template_areas": null,
            "grid_template_columns": null,
            "grid_template_rows": null,
            "height": null,
            "justify_content": null,
            "justify_items": null,
            "left": null,
            "margin": null,
            "max_height": null,
            "max_width": null,
            "min_height": null,
            "min_width": null,
            "object_fit": null,
            "object_position": null,
            "order": null,
            "overflow": null,
            "overflow_x": null,
            "overflow_y": null,
            "padding": null,
            "right": null,
            "top": null,
            "visibility": null,
            "width": null
          }
        },
        "19b2137c01674109a4094d8047dbce28": {
          "model_module": "@jupyter-widgets/controls",
          "model_name": "ProgressStyleModel",
          "model_module_version": "1.5.0",
          "state": {
            "_model_module": "@jupyter-widgets/controls",
            "_model_module_version": "1.5.0",
            "_model_name": "ProgressStyleModel",
            "_view_count": null,
            "_view_module": "@jupyter-widgets/base",
            "_view_module_version": "1.2.0",
            "_view_name": "StyleView",
            "bar_color": null,
            "description_width": ""
          }
        },
        "d2bd47a2b0bb41008b274f808c77edea": {
          "model_module": "@jupyter-widgets/base",
          "model_name": "LayoutModel",
          "model_module_version": "1.2.0",
          "state": {
            "_model_module": "@jupyter-widgets/base",
            "_model_module_version": "1.2.0",
            "_model_name": "LayoutModel",
            "_view_count": null,
            "_view_module": "@jupyter-widgets/base",
            "_view_module_version": "1.2.0",
            "_view_name": "LayoutView",
            "align_content": null,
            "align_items": null,
            "align_self": null,
            "border": null,
            "bottom": null,
            "display": null,
            "flex": null,
            "flex_flow": null,
            "grid_area": null,
            "grid_auto_columns": null,
            "grid_auto_flow": null,
            "grid_auto_rows": null,
            "grid_column": null,
            "grid_gap": null,
            "grid_row": null,
            "grid_template_areas": null,
            "grid_template_columns": null,
            "grid_template_rows": null,
            "height": null,
            "justify_content": null,
            "justify_items": null,
            "left": null,
            "margin": null,
            "max_height": null,
            "max_width": null,
            "min_height": null,
            "min_width": null,
            "object_fit": null,
            "object_position": null,
            "order": null,
            "overflow": null,
            "overflow_x": null,
            "overflow_y": null,
            "padding": null,
            "right": null,
            "top": null,
            "visibility": null,
            "width": null
          }
        },
        "ce81f51ef9c54126a2bc957b39ae0f82": {
          "model_module": "@jupyter-widgets/controls",
          "model_name": "DescriptionStyleModel",
          "model_module_version": "1.5.0",
          "state": {
            "_model_module": "@jupyter-widgets/controls",
            "_model_module_version": "1.5.0",
            "_model_name": "DescriptionStyleModel",
            "_view_count": null,
            "_view_module": "@jupyter-widgets/base",
            "_view_module_version": "1.2.0",
            "_view_name": "StyleView",
            "description_width": ""
          }
        }
      }
    }
  },
  "nbformat": 4,
  "nbformat_minor": 5
}