{
  "cells": [
    {
      "cell_type": "markdown",
      "metadata": {
        "id": "view-in-github",
        "colab_type": "text"
      },
      "source": [
        "<a href=\"https://colab.research.google.com/github/maxploter/ML/blob/main/course-ml-voron/MachineLearningSeminars_results/sem2/main.ipynb\" target=\"_parent\"><img src=\"https://colab.research.google.com/assets/colab-badge.svg\" alt=\"Open In Colab\"/></a>"
      ]
    },
    {
      "cell_type": "markdown",
      "source": [
        "# Setup"
      ],
      "metadata": {
        "id": "RA7vh2j6lzD-"
      }
    },
    {
      "cell_type": "code",
      "source": [
        "sem_num = '2'\n",
        "project_name = 'course-ml-voron/MachineLearningSeminars'\n",
        "\n",
        "own_project_notebook_path = f'{project_name}_results/sem{sem_num}/'\n",
        "print(own_project_notebook_path)"
      ],
      "metadata": {
        "colab": {
          "base_uri": "https://localhost:8080/"
        },
        "id": "9hICztehlylh",
        "outputId": "5071e894-c23d-45e4-ef0e-6036a1f6c3fb"
      },
      "execution_count": 2,
      "outputs": [
        {
          "output_type": "stream",
          "name": "stdout",
          "text": [
            "course-ml-voron/MachineLearningSeminars_results/sem2/\n"
          ]
        }
      ]
    },
    {
      "cell_type": "markdown",
      "metadata": {
        "id": "AClTqs4IavNk"
      },
      "source": [
        "# Линейные методы классификации и регрессии: метод стохастического градиента"
      ]
    },
    {
      "cell_type": "markdown",
      "metadata": {
        "id": "EQX13Y8DavNq"
      },
      "source": [
        "## Библиотеки"
      ]
    },
    {
      "cell_type": "code",
      "execution_count": 1,
      "metadata": {
        "id": "_XyTfhqVa0bl",
        "colab": {
          "base_uri": "https://localhost:8080/"
        },
        "outputId": "8d7c2021-9de9-4c09-8985-faf5f86a1f3d"
      },
      "outputs": [
        {
          "output_type": "stream",
          "name": "stdout",
          "text": [
            "\u001b[2K     \u001b[90m━━━━━━━━━━━━━━━━━━━━━━━━━━━━━━━━━━━━━━━━\u001b[0m \u001b[32m35.7/35.7 MB\u001b[0m \u001b[31m22.1 MB/s\u001b[0m eta \u001b[36m0:00:00\u001b[0m\n",
            "\u001b[?25h  Preparing metadata (setup.py) ... \u001b[?25l\u001b[?25hdone\n",
            "\u001b[2K     \u001b[90m━━━━━━━━━━━━━━━━━━━━━━━━━━━━━━━━━━━━━━━━\u001b[0m \u001b[32m5.0/5.0 MB\u001b[0m \u001b[31m59.4 MB/s\u001b[0m eta \u001b[36m0:00:00\u001b[0m\n",
            "\u001b[?25h  \u001b[1;31merror\u001b[0m: \u001b[1msubprocess-exited-with-error\u001b[0m\n",
            "  \n",
            "  \u001b[31m×\u001b[0m \u001b[32mpip subprocess to install build dependencies\u001b[0m did not run successfully.\n",
            "  \u001b[31m│\u001b[0m exit code: \u001b[1;36m1\u001b[0m\n",
            "  \u001b[31m╰─>\u001b[0m See above for output.\n",
            "  \n",
            "  \u001b[1;35mnote\u001b[0m: This error originates from a subprocess, and is likely not a problem with pip.\n",
            "  Installing build dependencies ... \u001b[?25l\u001b[?25herror\n",
            "\u001b[1;31merror\u001b[0m: \u001b[1msubprocess-exited-with-error\u001b[0m\n",
            "\n",
            "\u001b[31m×\u001b[0m \u001b[32mpip subprocess to install build dependencies\u001b[0m did not run successfully.\n",
            "\u001b[31m│\u001b[0m exit code: \u001b[1;36m1\u001b[0m\n",
            "\u001b[31m╰─>\u001b[0m See above for output.\n",
            "\n",
            "\u001b[1;35mnote\u001b[0m: This error originates from a subprocess, and is likely not a problem with pip.\n"
          ]
        }
      ],
      "source": [
        "import warnings\n",
        "warnings.filterwarnings(\"ignore\")\n",
        "\n",
        "try:\n",
        "    import google.colab\n",
        "    IN_COLAB = True\n",
        "except:\n",
        "    IN_COLAB = False\n",
        "\n",
        "if IN_COLAB:\n",
        "    !wget -q -O requirements.txt https://raw.githubusercontent.com/andriygav/MachineLearningSeminars/master/sem2/requirements.txt\n",
        "    !pip install -q -r requirements.txt"
      ]
    },
    {
      "cell_type": "code",
      "execution_count": 2,
      "metadata": {
        "id": "_ckuEp9YavNq"
      },
      "outputs": [],
      "source": [
        "import matplotlib.pyplot as plt\n",
        "from matplotlib import gridspec\n",
        "from scipy.special import expit\n",
        "from tqdm.notebook import tqdm\n",
        "import seaborn as sns\n",
        "import pandas as pd\n",
        "import numpy as np\n",
        "import torch\n",
        "\n",
        "from sklearn.linear_model import (LogisticRegression,\n",
        "                                  LinearRegression)\n",
        "from sklearn.model_selection import LeaveOneOut, KFold"
      ]
    },
    {
      "cell_type": "markdown",
      "metadata": {
        "id": "QovtfrWDavNs"
      },
      "source": [
        "## Разбор домашней задачи"
      ]
    },
    {
      "cell_type": "code",
      "execution_count": null,
      "metadata": {
        "id": "2sxSkQj8avNs"
      },
      "outputs": [],
      "source": [
        "# Генерация данных\n",
        "np.random.seed(0)\n",
        "l = 100\n",
        "n = 2\n",
        "X1 = np.array([[-1,-1]]) + 0.5*np.random.randn(l, n)\n",
        "X2 = np.array([[1,1]]) + 0.5*np.random.randn(l, n)\n",
        "X3 = np.array([[-1,1]]) + 0.5*np.random.randn(l, n)\n",
        "\n",
        "X = np.vstack([X1, X2, X3])\n",
        "y = np.hstack([[0]*l, [1]*l, [2]*l])\n",
        "\n",
        "# Добавляем константу\n",
        "X = np.hstack([X, np.ones([len(X), 1])])"
      ]
    },
    {
      "cell_type": "code",
      "execution_count": null,
      "metadata": {
        "id": "Rr1Dozn7avNu"
      },
      "outputs": [],
      "source": [
        "# обучения моделей\n",
        "models = []\n",
        "model = LogisticRegression(random_state=0, max_iter=2000, fit_intercept=False)\n",
        "_ = model.fit(X, np.array(y==0, dtype=np.int64))\n",
        "models.append(model)\n",
        "\n",
        "model = LogisticRegression(random_state=0, max_iter=2000, fit_intercept=False)\n",
        "_ = model.fit(X, np.array(y==1, dtype=np.int64))\n",
        "models.append(model)\n",
        "\n",
        "model = LogisticRegression(random_state=0, max_iter=2000, fit_intercept=False)\n",
        "_ = model.fit(X, np.array(y==2, dtype=np.int64))\n",
        "models.append(model)"
      ]
    },
    {
      "cell_type": "code",
      "execution_count": null,
      "metadata": {
        "id": "jty2xTuUavNw"
      },
      "outputs": [],
      "source": [
        "def get_line(a, b, c=0, x_min=-10, x_max=10):\n",
        "    x1, y1 = -(-b + c)/a, -1\n",
        "    x2, y2 = -(b + c)/a, 1\n",
        "\n",
        "    polynomial = np.poly1d(np.polyfit([x1, x2], [y1, y2], 1))\n",
        "    x_axis = np.linspace(x_min, x_max)\n",
        "    y_axis = polynomial(x_axis)\n",
        "\n",
        "    return x_axis, y_axis"
      ]
    },
    {
      "cell_type": "code",
      "execution_count": null,
      "metadata": {
        "colab": {
          "base_uri": "https://localhost:8080/",
          "height": 269
        },
        "id": "ken0J4-gavNw",
        "outputId": "30e35745-ba5b-4a14-a0ea-ccce564276e3"
      },
      "outputs": [
        {
          "data": {
            "image/png": "[encoded data removed]",
            "text/plain": [
              "<Figure size 648x288 with 2 Axes>"
            ]
          },
          "metadata": {
            "needs_background": "light"
          },
          "output_type": "display_data"
        }
      ],
      "source": [
        "cols = ['blue', 'red', 'green']\n",
        "fig, gs = plt.figure(figsize=(9,4)), gridspec.GridSpec(1, 2)\n",
        "\n",
        "ax = []\n",
        "for i in range(2):\n",
        "    ax.append(fig.add_subplot(gs[i]))\n",
        "    ax[i].set_xlim((-2.5, 2.5)), ax[i].set_ylim((-2.5, 2.5))\n",
        "\n",
        "for k in np.unique(y):\n",
        "    ax[0].plot(X[y==k,0], X[y==k,1], 'o',\n",
        "               label='класс {}'.format(k), color=cols[k])\n",
        "    ax[1].plot(X[y==k,0], X[y==k,1], 'o',\n",
        "               label='класс {}'.format(k), color=cols[k])\n",
        "\n",
        "for k in np.unique(y):\n",
        "    ax[0].plot(*get_line(*models[k].coef_[0][:2]), linewidth=2, color=cols[k])\n",
        "    ax[1].plot(*get_line(*models[k].coef_[0]), linewidth=2, color=cols[k])\n",
        "\n",
        "ax[0].legend(loc='best'), ax[1].legend(loc='best')\n",
        "plt.show()"
      ]
    },
    {
      "cell_type": "markdown",
      "metadata": {
        "id": "r5OtZNAjavNx"
      },
      "source": [
        "## Оптимизационные задачи"
      ]
    },
    {
      "cell_type": "markdown",
      "metadata": {
        "id": "b3x6LlH_avNy"
      },
      "source": [
        "### Задача оптимизации\n",
        "На прошлом семинаре обсуждалось, что задачи машинного обучения всегда сводятся к решению некоторой задачи оптимизации:\n",
        "$$\n",
        "\\hat{\\mathbf{w}} = \\arg\\min_{\\mathbf{w} \\in \\mathscr{W}} \\mathscr{L}\\bigr(\\mathbf{w}, \\mathbf{X}, \\mathbf{y}\\bigr).\n",
        "$$\n",
        "\n",
        "Обычно данные задачи оптимизации решают двумя способами:\n",
        "1. Аналитическое решение.\n",
        "2. Стохастический градиентный спуск.\n",
        "\n",
        "Аналитическое решение имеет самый большой недостаток в том, что не для любого $\\mathscr{L}$ оно существует или может быть выписано аналитически. У стохастического градиентного спуска есть ряд ограничений, которые нужно удовлетворить, чтобы была сходимость."
      ]
    },
    {
      "cell_type": "markdown",
      "metadata": {
        "id": "ARv9-0UyavNy"
      },
      "source": [
        "### Аналитическое решение для задачи линейной регрессии\n",
        "Линейная модель регрессии:\n",
        "$$\n",
        "\\mathfrak{F}_{rg} = \\{f\\bigr(\\mathbf{w}, \\mathbf{x}\\bigr) = \\mathbf{w}^{\\mathsf{T}}\\mathbf{x}| \\mathbf{w}\\in \\mathbb{R}^{n}\\}.\n",
        "$$\n",
        "Требуется решить следующую оптимизационную задачу:\n",
        "$$\n",
        "\\hat{\\theta} = \\arg\\min_{\\mathbf{w} \\in \\mathbb{R}^{n}} \\frac{1}{l}\\sum_{i=1}^{l}\\left(\\mathbf{w}^{\\mathsf{T}}\\mathbf{x}_i - y_i\\right)^2.\n",
        "$$\n",
        "Для удобства перепишем в матричном виде:\n",
        "$$\n",
        "\\sum_{i=1}^{l}\\left(\\mathbf{w}^{\\mathsf{T}}\\mathbf{x}_i - y_i\\right)^2 =\n",
        "\\left(\\mathbf{X}\\mathbf{w} - \\mathbf{y}\\right)^{\\mathsf{T}}\\left(\\mathbf{X}\\mathbf{w} - \\mathbf{y}\\right) =\n",
        "\\mathbf{w}^{\\mathsf{T}}\\mathbf{X}^{\\mathsf{T}}\\mathbf{X}\\mathbf{w} - 2\\mathbf{y}^{\\mathsf{T}}\\mathbf{X}\\mathbf{w} + \\mathbf{y}^{\\mathsf{T}}\\mathbf{y}\n",
        "$$\n",
        "Заметим, что задача у нас выпуклая, то есть существует единственный экстремум - глобальный минимум, для его нахождения воспользуемся необходимым условием первого порядка:\n",
        "$$\n",
        "\\frac{\\partial}{\\partial \\mathbf{w}}\\left(\\mathbf{w}^{\\mathsf{T}}\\mathbf{X}^{\\mathsf{T}}\\mathbf{X}\\mathbf{w} - 2\\mathbf{y}^{\\mathsf{T}}\\mathbf{X}\\mathbf{w} + \\mathbf{y}^{\\mathsf{T}}\\mathbf{y}\\right) = 0 = 2\\mathbf{X}^{\\mathsf{T}}\\mathbf{X}\\mathbf{w} - 2\\mathbf{y}^{\\mathsf{T}}\\mathbf{X} \\Rightarrow \\hat{\\mathbf{w}} = \\left(\\mathbf{X}^{\\mathsf{T}}\\mathbf{X}\\right)^{-1}\\mathbf{y}^{\\mathsf{T}}\\mathbf{X}\n",
        "$$\n",
        "\n",
        "Получили аналитическое решение для задачи линейной регрессии."
      ]
    },
    {
      "cell_type": "code",
      "source": [
        "x = np.linspace(0, 30, num=4)\n",
        "\n",
        "np.hstack([np.ones_like(x), x, np.sin(x)]).v"
      ],
      "metadata": {
        "colab": {
          "base_uri": "https://localhost:8080/"
        },
        "id": "rj9B2FAvDj25",
        "outputId": "2e66c320-7b8b-4639-a87e-49a3b56cb30b"
      },
      "execution_count": 9,
      "outputs": [
        {
          "output_type": "execute_result",
          "data": {
            "text/plain": [
              "(12,)"
            ]
          },
          "metadata": {},
          "execution_count": 9
        }
      ]
    },
    {
      "cell_type": "code",
      "execution_count": 10,
      "metadata": {
        "id": "h6uXgII5avNz"
      },
      "outputs": [],
      "source": [
        "np.random.seed(0)\n",
        "l = 40\n",
        "\n",
        "# Генерация данных\n",
        "x = np.linspace(0, 30, num=l)\n",
        "Y = x + 4*np.sin(x) + 3*np.random.randn(l)\n",
        "\n",
        "# Генерация признаков\n",
        "X = np.vstack([np.ones_like(x), x, np.sin(x)]).T\n",
        "\n",
        "# Решение задачи регрессии\n",
        "w = np.linalg.inv(X.T@X)@X.T@Y"
      ]
    },
    {
      "cell_type": "code",
      "execution_count": 11,
      "metadata": {
        "colab": {
          "base_uri": "https://localhost:8080/",
          "height": 432
        },
        "id": "4aTJVp7FavNz",
        "outputId": "76c70be8-10d7-4dc6-8360-b10528f13c50"
      },
      "outputs": [
        {
          "output_type": "display_data",
          "data": {
            "text/plain": [
              "<Figure size 640x480 with 1 Axes>"
            ],
            "image/png": "[encoded data removed]"
          },
          "metadata": {}
        }
      ],
      "source": [
        "plt.plot(x, Y, '.', label='train points')\n",
        "\n",
        "x_plot = np.linspace(0, 30, num=10000)\n",
        "plt.plot(x_plot, 4*np.sin(x_plot) + x_plot, label='real')\n",
        "\n",
        "X_plot = np.vstack([np.ones_like(x_plot), x_plot, np.sin(x_plot)]).T\n",
        "plt.plot(x_plot, X_plot@w, label='aproximation')\n",
        "\n",
        "plt.legend(loc='best')\n",
        "plt.show()"
      ]
    },
    {
      "cell_type": "markdown",
      "metadata": {
        "id": "2rrloVzYavN0"
      },
      "source": [
        "### Модель линейной классификации, как решать оптимизационную задачу\n",
        "Линейная модель бинарной (-1 и 1) классификации:\n",
        "$$\n",
        "\\mathfrak{F}_{bcl} = \\left\\{f\\bigr(\\mathbf{w}, \\mathbf{x}\\bigr)=\\text{sign}\\bigr(\\mathbf{w}^{\\mathsf{T}}\\mathbf{x}\\bigr)\\bigr| \\mathbf{w} \\in \\mathbb{R}^{n} \\right\\}.\n",
        "$$\n",
        "Требуется решить следующую оптимизационную задачу:\n",
        "$$\n",
        "\\hat{\\mathbf{w}} = \\arg \\min_{\\mathbf{w} \\in \\mathbb{R}^n} \\frac{1}{l}\\sum_{i=1}^l\\bigr[\\mathbf{w}^{\\mathsf{T}}\\mathbf{x}_i \\not= y_i\\bigr] = \\arg \\min_{\\mathbf{w} \\in \\mathbb{R}^n} \\frac{1}{l}\\sum_{i=1}^l\\bigr[y_i\\mathbf{w}^{\\mathsf{T}}\\mathbf{x}_i < 0 \\bigr].\n",
        "$$\n",
        "Но вместо этой задачи оптимизации будем минимизировать верхнюю оценку:\n",
        "$$\n",
        "\\hat{\\mathbf{w}} = \\arg \\min_{\\mathbf{w} \\in \\mathbb{R}^n} \\frac{1}{l}\\sum_{i=1}^l\\text{log}_{2}\\bigr(1+e^{-y_i\\mathbf{w}^{\\mathsf{T}}\\mathbf{x}_i}\\bigr)\n",
        "$$\n",
        "\n",
        "Но как ее минимизировать? Аналитическое решение найти не получится. Будем минизировать градиентными методами."
      ]
    },
    {
      "cell_type": "code",
      "execution_count": 12,
      "metadata": {
        "colab": {
          "base_uri": "https://localhost:8080/",
          "height": 449
        },
        "id": "jvrffGT1avN0",
        "outputId": "16fdc6ee-ed6d-4d82-b8f7-89de08227d17"
      },
      "outputs": [
        {
          "output_type": "display_data",
          "data": {
            "text/plain": [
              "<Figure size 640x480 with 1 Axes>"
            ],
            "image/png": "[encoded data removed]"
          },
          "metadata": {}
        }
      ],
      "source": [
        "def sign(x):\n",
        "    return np.array(x <= 0, dtype=np.int64)\n",
        "def upper_bound(x):\n",
        "    return np.log2(1+np.exp(-x))\n",
        "\n",
        "x = np.linspace(-2, 6, 100)\n",
        "plt.plot(x, sign(x), label='$sign(x)$')\n",
        "plt.plot(x, upper_bound(x), label='$\\log(1+\\exp(-x))$')\n",
        "\n",
        "plt.xlabel('$x$')\n",
        "plt.ylabel('$L$')\n",
        "plt.legend(loc='best')\n",
        "plt.show()"
      ]
    },
    {
      "cell_type": "markdown",
      "metadata": {
        "id": "9Bvm2JHbavN3"
      },
      "source": [
        "### Стохастический градиентный спуск\n",
        "Напомним простой градиентный спуск:\n",
        "$$\n",
        "\\mathbf{w}_{k+1} = \\mathbf{w}_k - \\alpha_k \\nabla \\mathscr{L}\\bigr(\\mathbf{w}, \\mathbf{X}, \\mathbf{y}\\bigr).\n",
        "$$\n",
        "В чем минусы?\n",
        "1. Очень долго считать градиент суммы $\\mathscr{L}\\bigr(\\mathbf{w}, \\mathbf{X}, \\mathbf{y}\\bigr) = \\frac{1}{l}\\sum_{i=1}^{l}q\\bigr(\\mathbf{w}, \\mathbf{x}_i, y_i\\bigr)$\n",
        "2. Как ускорить?\n",
        "\n",
        "Рассмотрим стохастический градиентный спуск:\n",
        "$$\n",
        "\\mathbf{w}_{k+1} = \\mathbf{w}_k - \\alpha_k \\nabla q\\bigr(\\mathbf{w}, \\mathbf{x}_{i_k}, y_{i_k}\\bigr).\n",
        "$$\n",
        "\n",
        "В случае, если индекс объекта $i_k$ сгенерирован равновероятно, то справедливо следующее свойство:\n",
        "$$\n",
        "\\mathsf{E} \\nabla q\\bigr(\\mathbf{w}, \\mathbf{x}_{i_k}, y_{i_k}\\bigr) = \\frac{1}{l}\\sum_{i=1}^{l}\\nabla q\\bigr(\\mathbf{w}, \\mathbf{x}_i, y_i\\bigr) = \\nabla\\mathscr{L}\\bigr(\\mathbf{w}, \\mathbf{X}, \\mathbf{y}\\bigr),\n",
        "$$\n",
        "то есть получаем, что в среднем градиент на каждой итерации направлен вдоль истинного градиента."
      ]
    },
    {
      "cell_type": "markdown",
      "metadata": {
        "id": "9dgDkXzKavN4"
      },
      "source": [
        "### Анализ сходимости стохастического градиента\n",
        "Рассмотрим задачу оптимизации:\n",
        "$$\n",
        "\\mathscr{L}\\bigr(\\mathbf{w}\\bigr) = \\frac{1}{l}\\sum_{i=1}^{l}q\\bigr(\\mathbf{w}, i\\bigr) \\to \\min_{\\mathbf{w}},\n",
        "$$\n",
        "где $\\mathscr{L}$ является выпуклой функцией по параметру $\\mathbf{w}$.\n",
        "\n",
        "Стохастический градиентный спуск:\n",
        "$$\n",
        "\\mathbf{w}_{k+1} = \\mathbf{w}_k - \\alpha_k \\hat{\\mathbf{g}}_k, \\quad \\mathsf{E}\\hat{\\mathbf{g}}_k = \\mathbf{g}_k = \\nabla\\mathscr{L}\\bigr(\\mathbf{w}\\bigr).\n",
        "$$\n",
        "\n",
        "Рассмотрим норму невязки:\n",
        "$$\n",
        "||\\textbf{w}_{k+1} - \\textbf{w}^*||^2 = ||\\textbf{w}_{k}-\\textbf{w}^* - \\alpha_{k}\\hat{\\textbf{g}}_k||^2 = ||\\textbf{w}_{k} - \\textbf{w}^*||^2 -2\\alpha_{k}\\hat{\\textbf{g}}_k^{\\mathsf{T}}(\\textbf{w}_{k} - \\textbf{w}^*) + \\alpha_{k}^2||\\hat{\\textbf{g}}_k||^2.\n",
        "$$\n",
        "\n",
        "Рассмотрим среднее значение невязки при случайном выборе $\\hat{\\mathbf{g}}_k$:\n",
        "$$\n",
        "\\mathsf{E}||\\textbf{w}_{k+1} - \\textbf{w}^*||^2 = ||\\textbf{w}_{k} - \\textbf{w}^*||^2 -2\\alpha_{k}\\textbf{g}_k^{\\mathsf{T}}(\\textbf{w}_{k} - \\textbf{w}^*) + \\alpha_{k}^2\\mathsf{E}||\\hat{\\textbf{g}}_k||^2.\n",
        "$$\n",
        "Далее нам потребуется следующая величина:\n",
        "$$\n",
        "\\alpha_{k}\\textbf{g}_k^{\\mathsf{T}}(\\textbf{w}_{k} - \\textbf{w}^*) = \\frac{1}{2}||\\textbf{w}_{k} - \\textbf{w}^*||^2 - \\frac{1}{2}\\mathsf{E}||\\textbf{w}_{k+1} - \\textbf{w}^*||^2 + \\frac{\\alpha_{k}^2}{2}\\mathsf{E}||\\hat{\\textbf{g}}_k||^2.\n",
        "$$"
      ]
    },
    {
      "cell_type": "markdown",
      "metadata": {
        "id": "ZKyBGqaRavN7"
      },
      "source": [
        "В силу выпуклости функции $\\mathscr{L}$ справедливо следующее свойство:\n",
        "$$\n",
        "\\mathscr{L}\\bigr(\\mathbf{w}_k\\bigr) - \\mathscr{L}\\bigr(\\mathbf{w}^*\\bigr) \\leq\\textbf{g}_k^{\\mathsf{T}}(\\textbf{w}_{k} - \\textbf{w}^*)\n",
        "$$\n",
        "\n",
        "Откуда получаем:\n",
        "$$\n",
        "\\alpha_k\\left(\\mathscr{L}\\bigr(\\mathbf{w}_k\\bigr) - \\mathscr{L}\\bigr(\\mathbf{w}^*\\bigr)\\right) \\leq \\frac{1}{2}||\\textbf{w}_{k} - \\textbf{w}^*||^2 - \\frac{1}{2}\\mathsf{E}||\\textbf{w}_{k+1} - \\textbf{w}^*||^2 + \\frac{\\alpha_{k}^2}{2}\\mathsf{E}||\\hat{\\textbf{g}}_k||^2.\n",
        "$$\n",
        "\n",
        "Далее усредним уже по $\\mathbf{w}_k$ для всех $k=0, \\ldots,  K$ и просуммируем $K + 1$ первых итераций:\n",
        "$$\n",
        "\\sum_{k=0}^{K}\\alpha_k\\left(\\mathsf{E}\\mathscr{L}\\bigr(\\mathbf{w}_k\\bigr) - \\mathscr{L}\\bigr(\\mathbf{w}^*\\bigr)\\right) \\leq \\frac{1}{2}||\\mathbf{w}_0 - \\mathbf{w}^*||^2 - \\frac{1}{2}\\mathsf{E}||\\textbf{w}_{K+1} - \\textbf{w}^*||^2 + \\sum_{k=0}^{K}\\frac{\\alpha_{k}^2}{2}\\mathsf{E}||\\hat{\\textbf{g}}_k||^2 \\leq \\frac{1}{2}||\\mathbf{w}_0 - \\mathbf{w}^*||^2 + \\sum_{k=0}^{K}\\frac{\\alpha_{k}^2}{2}\\mathsf{E}||\\hat{\\textbf{g}}_k||^2.\n",
        "$$"
      ]
    },
    {
      "cell_type": "markdown",
      "metadata": {
        "id": "ZPnk87mdavN8"
      },
      "source": [
        "Используем неравенство Йенсена для выпуклой функции $\\mathscr{L}$:\n",
        "$$\n",
        "\\mathsf{E}\\mathscr{L}\\left(\\frac{1}{\\sum\\alpha_k}\\sum\\alpha_k\\mathbf{w}_k\\right) - \\mathscr{L}\\bigr(\\mathbf{w}^*\\bigr) \\leq \\sum_{k=0}^{K}\\alpha_k\\left(\\mathsf{E}\\mathscr{L}\\bigr(\\mathbf{w}_k\\bigr) - \\mathscr{L}\\bigr(\\mathbf{w}^*\\bigr)\\right) \\leq \\frac{1}{2}||\\mathbf{w}_0 - \\mathbf{w}^*||^2 + \\sum_{k=0}^{K}\\frac{\\alpha_{k}^2}{2}\\mathsf{E}||\\hat{\\textbf{g}}_k||^2.\n",
        "$$\n",
        "\n",
        "Для удобства введем обозначение и предположения:\n",
        "$$\n",
        "\\hat{\\mathbf{w}}_{K} = \\frac{1}{\\sum\\alpha_k}\\sum\\alpha_k\\mathbf{w}_k, \\quad ||\\textbf{w}_0 - \\textbf{w}^*||^2 \\leq R^2, \\quad \\mathsf{E}||\\hat{\\textbf{g}}_k||^2 \\leq G^2.\n",
        "$$\n",
        "\n",
        "Получаем следующую оценку:\n",
        "$$\n",
        "\\mathsf{E}\\mathscr{L}\\bigr(\\hat{\\mathbf{w}}_K\\bigr) - \\mathscr{L}\\bigr(\\mathbf{w}^*\\bigr) \\leq \\frac{R^2+G^2\\sum\\alpha^2_k}{2\\sum\\alpha_k}\n",
        "$$"
      ]
    },
    {
      "cell_type": "markdown",
      "metadata": {
        "id": "3Cf_qkdBavOB"
      },
      "source": [
        "Проанализируем выражение на скорость сходимости:\n",
        "$$\n",
        "\\mathsf{E}\\mathcal{L}\\bigr(\\mathbf{w}_K\\bigr) - \\mathcal{L}\\bigr(\\mathbf{w}^*\\bigr) \\leq \\frac{R^2+G^2\\sum\\alpha^2_k}{2\\sum\\alpha_k}\n",
        "$$\n",
        "\n",
        "Первый способ выборка шага:\n",
        "$$\n",
        "\\quad \\sum\\alpha_k = \\infty, \\quad \\sum\\alpha^2_k < \\infty, \\qquad \\left[ \\alpha_k = \\frac{1}{k}\\right]\n",
        "$$\n",
        "получаем скорость сходимости $\\approx O\\left(\\frac{1}{\\log K}\\right)$.\n",
        "\n",
        "Второй способ выбора шага:\n",
        "$$\n",
        "\\quad \\sum\\alpha_k = \\infty, \\quad \\frac{\\sum\\alpha^2_k}{\\sum\\alpha_k} = 0, \\qquad \\left[ \\alpha_k = \\frac{1}{\\sqrt{k}}\\right]\n",
        "$$\n",
        "получаем скорость сходимости $\\approx O\\left(\\frac{\\log K}{\\sqrt{K}}\\right)$.\n",
        "\n",
        "Получили важное свойство, что при константном шаге метод стохастического градиента не сходится."
      ]
    },
    {
      "cell_type": "markdown",
      "metadata": {
        "id": "eOryLNtEavOB"
      },
      "source": [
        "### Вернемся к задаче бинарной классификации\n",
        "$$\n",
        "\\hat{\\mathbf{w}} = \\arg \\min_{\\mathbf{w} \\in \\mathbb{R}^n} \\frac{1}{l}\\sum_{i=1}^l\\log_{2}\\bigr(1+e^{-y_i\\mathbf{w}^{\\mathsf{T}}\\mathbf{x}_i}\\bigr)\n",
        "$$"
      ]
    },
    {
      "cell_type": "code",
      "execution_count": null,
      "metadata": {
        "id": "Czg2oj2GavOC"
      },
      "outputs": [],
      "source": [
        "torch.manual_seed(0)\n",
        "\n",
        "l = 1000\n",
        "n = 2\n",
        "\n",
        "X = torch.randn([l, n])\n",
        "w_true = torch.randn([n])\n",
        "Y = torch.ones([l])\n",
        "Y[X@w_true < 0] = -1"
      ]
    },
    {
      "cell_type": "code",
      "execution_count": null,
      "metadata": {
        "id": "Yuq8f98iavOD"
      },
      "outputs": [],
      "source": [
        "torch.manual_seed(0)\n",
        "np.random.seed(0)\n",
        "w = torch.randn([n], requires_grad=True)\n",
        "\n",
        "K = l\n",
        "list_of_loss_sqrt = []\n",
        "for k in range(1, K+1):\n",
        "    # Считаем ошибку L на k-м шаге\n",
        "    with torch.no_grad():\n",
        "        list_of_loss_sqrt.append(\n",
        "            torch.mean(torch.log2(1+torch.exp(-Y*(X@w)))))\n",
        "\n",
        "    # выбираем случайный элемент из выборки\n",
        "    ind = np.random.randint(low=0, high=l)\n",
        "    alpha = 1/np.sqrt(k)\n",
        "\n",
        "    # считаем ошибку на элементе\n",
        "    q = torch.log2(1+torch.exp(-Y[ind]*(X[ind]@w)))\n",
        "\n",
        "    # считаем g с крышкой\n",
        "    q.backward()\n",
        "\n",
        "    # делаем градиентный шаг\n",
        "    with torch.no_grad():\n",
        "        w.add_(w.grad, alpha=-1*alpha)\n",
        "\n",
        "    # обнуляем градиент\n",
        "    w.grad.zero_()"
      ]
    },
    {
      "cell_type": "code",
      "execution_count": null,
      "metadata": {
        "colab": {
          "base_uri": "https://localhost:8080/"
        },
        "id": "Mqo2GkBZavOH",
        "outputId": "f5884b51-e77c-4924-a731-97c5cedd0073",
        "scrolled": true
      },
      "outputs": [
        {
          "name": "stdout",
          "output_type": "stream",
          "text": [
            "Точность прогноза: 0.9980000257492065\n"
          ]
        }
      ],
      "source": [
        "pred = torch.ones([l])\n",
        "pred[X@w < 0] = -1\n",
        "print('Точность прогноза: {}'.format(torch.mean((pred == Y).float()).item()))"
      ]
    },
    {
      "cell_type": "code",
      "execution_count": null,
      "metadata": {
        "id": "06aCQDVzavOZ"
      },
      "outputs": [],
      "source": [
        "torch.manual_seed(0)\n",
        "np.random.seed(0)\n",
        "w = torch.randn([n], requires_grad=True)\n",
        "\n",
        "K = l\n",
        "list_of_loss = []\n",
        "for k in range(1, K+1):\n",
        "    # Считаем ошибку L на k-м шаге\n",
        "    with torch.no_grad():\n",
        "        list_of_loss.append(torch.mean(torch.log2(1+torch.exp(-Y*(X@w)))))\n",
        "\n",
        "    # выбираем случайный элемент из выборки\n",
        "    ind = np.random.randint(low=0, high=l)\n",
        "    alpha = 1/k\n",
        "\n",
        "    # считаем ошибку на элементе\n",
        "    q = torch.log2(1+torch.exp(-Y[ind]*(X[ind]@w)))\n",
        "\n",
        "    # считаем g с крышкой\n",
        "    q.backward()\n",
        "\n",
        "    # делаем градиентный шаг\n",
        "    with torch.no_grad():\n",
        "        w.add_(w.grad, alpha=-1*alpha)\n",
        "\n",
        "    # обнуляем градиент\n",
        "    w.grad.zero_()"
      ]
    },
    {
      "cell_type": "code",
      "execution_count": null,
      "metadata": {
        "id": "ZBeCSzymavOa"
      },
      "outputs": [],
      "source": [
        "torch.manual_seed(0)\n",
        "w = torch.randn([n], requires_grad=True)\n",
        "\n",
        "dataset = torch.utils.data.TensorDataset(X, Y)\n",
        "generator = torch.utils.data.DataLoader(dataset, batch_size=1, shuffle=True)\n",
        "\n",
        "optimizer = torch.optim.SGD([w], lr=1)\n",
        "scheduler = torch.optim.lr_scheduler.LambdaLR(optimizer,\n",
        "                                              lambda k: 1/np.sqrt(k+1))\n",
        "\n",
        "list_of_loss_torch = []\n",
        "for x, y in generator:\n",
        "    optimizer.zero_grad()\n",
        "\n",
        "    # Считаем ошибку L на k-м шаге\n",
        "    with torch.no_grad():\n",
        "        list_of_loss_torch.append(\n",
        "            torch.mean(torch.log2(1+torch.exp(-Y*(X@w)))))\n",
        "\n",
        "    q = torch.log2(1+torch.exp(-y*(x@w))).mean()\n",
        "\n",
        "    q.backward()\n",
        "\n",
        "    optimizer.step()\n",
        "    scheduler.step()"
      ]
    },
    {
      "cell_type": "code",
      "execution_count": null,
      "metadata": {
        "colab": {
          "base_uri": "https://localhost:8080/",
          "height": 269
        },
        "id": "n4dYznC_avOa",
        "outputId": "77d5508e-26e6-4259-d121-5aa51e255f4b"
      },
      "outputs": [
        {
          "data": {
            "image/png": "[encoded data removed]",
            "text/plain": [
              "<Figure size 432x288 with 1 Axes>"
            ]
          },
          "metadata": {
            "needs_background": "light"
          },
          "output_type": "display_data"
        }
      ],
      "source": [
        "plt.plot(list_of_loss, label=\"manual: $a_k = 1/k$\")\n",
        "plt.plot(list_of_loss_sqrt, label=\"manual: $a_k = 1/k^{0.5}$\")\n",
        "plt.plot(list_of_loss_torch, label=\"torch: $a_k = 1/k^{0.5}$\")\n",
        "plt.legend(loc='best')\n",
        "plt.show()"
      ]
    },
    {
      "cell_type": "markdown",
      "metadata": {
        "id": "d9FNmDRHavOa"
      },
      "source": [
        "## Вероятностная постановка задачи машинного обучения"
      ]
    },
    {
      "cell_type": "markdown",
      "metadata": {
        "id": "0_fFNgabavOb"
      },
      "source": [
        "### Линейная регрессия\n",
        "Рассмотрим следующее вероятностное предположение о данных:\n",
        "$$\n",
        "y = \\mathbf{w}^{\\mathsf{T}}\\mathbf{x} + \\varepsilon, \\quad \\varepsilon \\sim \\mathcal{N}\\bigr(0, \\beta\\bigr)\n",
        "$$\n",
        "\n",
        "Пусть векторы $\\mathbf{w}$ и $\\mathbf{x}$ являются неслучайными, тогда получаем, что $y$ является нормальной случайной величиной. Пусть все объекты выборки также являются независимыми случайными величинами, тогда получаем правдоподобие выборки:\n",
        "$$\n",
        "p\\bigr(\\mathbf{y}|\\mathbf{w}, \\mathbf{X}\\bigr) = \\prod_{i=1}^{l}p\\bigr(y_i|\\mathbf{w}, \\mathbf{x}_i\\bigr),\n",
        "$$\n",
        "где $p\\bigr(y_i|\\mathbf{w}, \\mathbf{x}_i\\bigr)=\\mathcal{N}\\bigr(\\mathbf{w}^{\\mathsf{T}}\\mathbf{x}_i, \\beta)$.\n",
        "\n",
        "Принцип максимума правдоподобия:\n",
        "$$\n",
        "\\mathcal{L}\\bigr(\\mathbf{w}, \\mathbf{X}, \\mathbf{y}\\bigr) = -\\sum_{i=1}^{l}\\log p\\bigr(y_i|\\mathbf{w}, \\mathbf{x}_i\\bigr) = \\sum_{i=1}^{l}\\left[\\frac{\\beta}{2}\\left(\\mathbf{w}^{\\mathsf{T}}\\mathbf{x}_i-y_i\\right)^2 + C\\right]\n",
        "$$\n",
        "\n",
        "Данная задача эквивалентна задаче, которая была рассмотрена в начале для линейной регрессии. Решение задачи имеет вид:\n",
        "$$\n",
        "\\hat{\\mathbf{w}} = \\left(\\mathbf{X}^{\\mathsf{T}}\\mathbf{X}\\right)^{-1}\\mathbf{X}^{\\mathsf{T}}\\mathbf{y}\n",
        "$$"
      ]
    },
    {
      "cell_type": "markdown",
      "metadata": {
        "id": "_k8YNeAQavOb"
      },
      "source": [
        "Теперь рассмотрим совместное правдоподобие модели и данных:\n",
        "$$\n",
        "p\\bigr(\\mathbf{y}, \\mathbf{w}|\\mathbf{X}\\bigr) = \\prod_{i=1}^{l}p\\bigr(y_i|\\mathbf{w}, \\mathbf{x}_i\\bigr)p\\bigr(\\mathbf{w}\\bigr),\n",
        "$$\n",
        "где для простоты рассмотрим $p\\bigr(\\mathbf{w}\\bigr)=\\mathcal{N}\\bigr(\\mathbf{0}, \\gamma\\mathbf{I})$.\n",
        "\n",
        "По принципу максимума правдоподобия получаем следующую функцию для минимизации:\n",
        "$$\n",
        "\\mathcal{L}\\bigr(\\mathbf{w}, \\mathbf{X}, \\mathbf{y}\\bigr) = -\\sum_{i=1}^{l}\\log p\\bigr(y_i|\\mathbf{w}, \\mathbf{x}_i\\bigr) - \\log p\\bigr(\\mathbf{w}\\bigr) = \\sum_{i=1}^{l}\\left[\\frac{\\beta}{2}\\left(\\mathbf{w}^{\\mathsf{T}}\\mathbf{x}_i-y_i\\right)^2 + C_1\\right] + \\mathbf{w}^{\\mathsf{T}}\\mathbf{w} + C_2.\n",
        "$$\n",
        "\n",
        "Заметим, что следующая задача оптимизации имеет аналитическое решение:\n",
        "$$\n",
        "\\hat{\\mathbf{w}} = \\arg\\min_{\\mathbf{w} \\in \\mathbb{R}^{n}} \\left\\{-\\sum_{i=1}^{l}\\log p\\bigr(y_i|\\mathbf{w}, \\mathbf{x}_i\\bigr) - \\log p\\bigr(\\mathbf{w}\\bigr)\\right\\} = \\arg\\min_{\\mathbf{w} \\in \\mathbb{R}^{n}} \\left\\{ \\sum_{i=1}^{l}\\left[\\frac{\\beta}{2}\\left(\\mathbf{w}^{\\mathsf{T}}\\mathbf{x}_i-y_i\\right)^2 + C_1\\right] + \\frac{\\gamma}{2}\\mathbf{w}^{\\mathsf{T}}\\mathbf{w} + C_2 \\right\\}.\n",
        "$$"
      ]
    },
    {
      "cell_type": "markdown",
      "metadata": {
        "id": "to6WOm76avOc"
      },
      "source": [
        "### Логистическая регрессия\n",
        "Рассмотрим следующее вероятностное предположение о данных:\n",
        "$$\n",
        "y \\sim \\text{Be}\\bigr(\\sigma\\bigr(\\mathbf{w}^{\\mathsf{T}}\\mathbf{x}\\bigr)\\bigr), \\quad \\sigma\\bigr(x\\bigr) = \\frac{1}{1+\\exp\\bigr(-x\\bigr)}.\n",
        "$$\n",
        "\n",
        "Принцип максимума правдоподобия:\n",
        "$$\n",
        "\\mathcal{L}\\bigr(\\mathbf{w}, \\mathbf{X}, \\mathbf{y}\\bigr) = -\\sum_{i=1}^{l}\\log p\\bigr(y_i|\\mathbf{w}, \\mathbf{x}_i\\bigr) = \\sum_{i=1}^{l}\\left[y_i\\log\\sigma\\bigr(\\mathbf{w}^{\\mathsf{T}}\\mathbf{x}_i\\bigr) + \\left(1-y_i\\right)\\log\\left(1-\\sigma\\bigr(\\mathbf{w}^{\\mathsf{T}}\\mathbf{x}_i\\bigr)\\right) + C\\right].\n",
        "$$\n",
        "\n",
        "Аналогично рассмотрим совместное правдоподобие модели и данных. Запишем правдоподобие в случае, когда $p\\bigr(\\mathbf{w}\\bigr)=\\mathcal{N}\\bigr(\\mathbf{0}, \\gamma\\mathbf{I})$:\n",
        "$$\n",
        "\\mathcal{L}\\bigr(\\mathbf{w}, \\mathbf{X}, \\mathbf{y}\\bigr) = -\\sum_{i=1}^{l}\\log p\\bigr(y_i|\\mathbf{w}, \\mathbf{x}_i\\bigr) - \\log p\\bigr(\\mathbf{w}\\bigr) = \\sum_{i=1}^{l}\\left[y_i\\log\\sigma\\bigr(\\mathbf{w}^{\\mathsf{T}}\\mathbf{x}_i\\bigr) + \\left(1-y_i\\right)\\log\\left(1-\\sigma\\bigr(\\mathbf{w}^{\\mathsf{T}}\\mathbf{x}_i\\bigr)\\right) + C_1\\right] + \\frac{\\gamma}{2}\\mathbf{w}^{\\mathsf{T}}\\mathbf{w} + C_2.\n",
        "$$"
      ]
    },
    {
      "cell_type": "markdown",
      "metadata": {
        "id": "0SNccbnaavOc"
      },
      "source": [
        "## Анализ решения задачи оптимизации от параметра $\\gamma$\n",
        "Заметим, что решение оптимизационной задачи зависит от параметра $\\gamma$:\n",
        "$$\n",
        "\\hat{\\mathbf{w}}\\bigr(\\gamma\\bigr) = \\arg\\min_{\\mathbf{w} \\in \\mathbb{R}^{n}} \\left\\{\\sum_{i=1}^{l}\\left[y_i\\log\\sigma\\bigr(\\mathbf{w}^{\\mathsf{T}}\\mathbf{x}_i\\bigr) + \\left(1-y_i\\right)\\log\\left(1-\\sigma\\bigr(\\mathbf{w}^{\\mathsf{T}}\\mathbf{x}_i\\bigr)\\right)\\right] + \\frac{\\gamma}{2}\\mathbf{w}^{\\mathsf{T}}\\mathbf{w}\\right\\}.\n",
        "$$\n",
        "\n",
        "Рассмотрим решение логистической регрессии для разных параметров $\\gamma$."
      ]
    },
    {
      "cell_type": "code",
      "execution_count": null,
      "metadata": {
        "id": "GAEViexJavOf"
      },
      "outputs": [],
      "source": [
        "np.random.seed(0)\n",
        "l = 50000\n",
        "n = 2\n",
        "\n",
        "X = np.random.randn(l, n)\n",
        "w = np.random.randn(n)\n",
        "Y = np.random.binomial(n=1, p=expit(X@w))"
      ]
    },
    {
      "cell_type": "code",
      "execution_count": null,
      "metadata": {
        "id": "d4wNZkpHavOh"
      },
      "outputs": [],
      "source": [
        "gammas = [1e-10, 1e-4, 1e-3, 1e-2, .1, 1., 10., 1e2, 1e3, 1e4, 1e10]\n",
        "\n",
        "models_l2 = dict()\n",
        "for gamma in gammas:\n",
        "    model = LogisticRegression(penalty='l2', C=2/gamma, fit_intercept=False,\n",
        "                               random_state=0, solver='saga')\n",
        "    model.fit(X, Y)\n",
        "    models_l2[gamma] = model\n",
        "\n",
        "models_l1 = dict()\n",
        "for gamma in gammas:\n",
        "    model = LogisticRegression(penalty='l1', C=2/gamma, fit_intercept=False,\n",
        "                               random_state=0, solver='saga')\n",
        "    model.fit(X, Y)\n",
        "    models_l1[gamma] = model"
      ]
    },
    {
      "cell_type": "code",
      "execution_count": null,
      "metadata": {
        "colab": {
          "base_uri": "https://localhost:8080/",
          "height": 269
        },
        "id": "Ta41gBfhavOi",
        "outputId": "5dadbab1-993a-4812-dac5-b1231857e462"
      },
      "outputs": [
        {
          "data": {
            "image/png": "[encoded data removed]",
            "text/plain": [
              "<Figure size 432x288 with 1 Axes>"
            ]
          },
          "metadata": {
            "needs_background": "light"
          },
          "output_type": "display_data"
        }
      ],
      "source": [
        "x = [models_l2[gamma].coef_[0][0] for gamma in models_l2]\n",
        "y = [models_l2[gamma].coef_[0][1] for gamma in models_l2]\n",
        "\n",
        "plt.plot(x, y, 'bo')\n",
        "plt.plot(x, y, 'b-', linewidth=1, label='l2 penalty')\n",
        "\n",
        "x = [models_l1[gamma].coef_[0][0] for gamma in models_l1]\n",
        "y = [models_l1[gamma].coef_[0][1] for gamma in models_l1]\n",
        "\n",
        "plt.plot(x, y, 'go')\n",
        "plt.plot(x, y, 'g-', linewidth=1, label='l1 penalty')\n",
        "\n",
        "plt.scatter(w[0], w[1], marker='*', c='r', label='true w')\n",
        "plt.legend(loc='best')\n",
        "plt.show()"
      ]
    },
    {
      "cell_type": "markdown",
      "metadata": {
        "id": "2ZhRS0ehavOj"
      },
      "source": [
        "### Как находить оптимальное $\\gamma$"
      ]
    },
    {
      "cell_type": "markdown",
      "metadata": {
        "id": "AwXfsVBveEth"
      },
      "source": [
        "### LOO\n",
        "\n",
        "Одним из простых методов борьбы с переобучением является метод Leave One Out. Для удобства обозначим $\\hat{\\theta}\\bigr(\\mathbf{X}\\bigr)$ как оптимальный вектор для выборки $\\mathbf{X}$. Тогда ошибка LOO определяется следующим образом:\n",
        "$$LOO\\bigr(\\mu, \\textbf{X}_{tr}, \\textbf{y}_{tr}, \\textbf{X}_{vl}, \\textbf{y}_{vl}\\bigr) =\n",
        "\\sum_{i=1}^{l_{tr}+l_{vl}}q\\bigr(\\hat{\\theta}\\bigr(\\mathbf{X}_{tr}\\cup\\textbf{X}_{vl}\\setminus\\mathbf{x}_i, \\mu\\bigr), \\mathbf{x}_i, y_i\\bigr),$$\n",
        "где $\\mathbf{x}_i$ - это элемент из объединенного датасета обучения и валидации.\n",
        "\n",
        "После чего оптимальный вектор параметров является решением следующей оптимизационной задачи:\n",
        "$$\n",
        "\\hat{\\mu} = \\arg\\min_{\\mu \\in \\mathfrak{M}} LOO\\bigr(\\mu, \\textbf{X}_{tr}, \\textbf{y}_{tr}, \\textbf{X}_{vl}, \\textbf{y}_{vl}\\bigr),\n",
        "$$\n",
        "$$\n",
        "\\hat{\\theta} = \\hat{\\theta}\\bigr(\\mathbf{X}_{tr}\\cup\\textbf{X}_{vl}, \\hat{\\mu}\\bigr)\n",
        "$$"
      ]
    },
    {
      "cell_type": "markdown",
      "metadata": {
        "id": "0Nn48ZOZavOk"
      },
      "source": [
        "Для поиска оптимального $\\gamma$ вспомним про Cross Validation и LOO методы.\n",
        "\n",
        "LOO:\n",
        "$$\n",
        "\\hat{\\gamma} = \\arg\\min_{\\gamma \\in \\Gamma} LOO\\bigr(\\gamma, \\textbf{X}_{tr}, \\textbf{y}_{tr}, \\textbf{X}_{vl}, \\textbf{y}_{vl}\\bigr), \\quad LOO\\bigr(\\mu, \\textbf{X}_{tr}, \\textbf{y}_{tr}, \\textbf{X}_{vl}, \\textbf{y}_{vl}\\bigr) =\n",
        "\\sum_{i=1}^{l_{tr}+l_{vl}}q\\bigr(\\hat{\\mathbf{w}}\\bigr(\\gamma\\bigr), \\mathbf{x}_i, y_i\\bigr),\n",
        "$$\n",
        "\n",
        "На лекции рассмотрим метод LOO. В Cross Validation все то же самое, но откладываем не по одному элементу, а больше."
      ]
    },
    {
      "cell_type": "code",
      "execution_count": null,
      "metadata": {
        "id": "8Jwk912tavOk"
      },
      "outputs": [],
      "source": [
        "np.random.seed(0)\n",
        "l = 1000\n",
        "n = 2\n",
        "\n",
        "X_train = np.random.randn(l, n)\n",
        "X_test = np.random.randn(500, n)\n",
        "w = np.random.randn(n)\n",
        "Y_train = np.random.binomial(n=1, p=expit(X_train@w))\n",
        "Y_test = np.random.binomial(n=1, p=expit(X_test@w))"
      ]
    },
    {
      "cell_type": "code",
      "execution_count": null,
      "metadata": {
        "id": "I_btKdWeavOl"
      },
      "outputs": [],
      "source": [
        "loo = LeaveOneOut()\n",
        "number_of_batch = loo.get_n_splits(X_train)\n",
        "\n",
        "gamma_scores = dict()\n",
        "for gamma in tqdm(gammas):\n",
        "    list_of_scores = []\n",
        "    for train_index, test_index in tqdm(loo.split(X_train),\n",
        "                                        total=number_of_batch, leave=False):\n",
        "        x_train, x_test = X_train[train_index], X_train[test_index]\n",
        "        y_train, y_test = Y_train[train_index], Y_train[test_index]\n",
        "\n",
        "        model = LogisticRegression(penalty='l2', C=2/gamma, solver='saga',\n",
        "                                   fit_intercept=False, random_state=0)\n",
        "        model.fit(x_train, y_train)\n",
        "        list_of_scores.append(model.score(x_test, y_test))\n",
        "\n",
        "    gamma_scores[gamma] = np.mean(list_of_scores)"
      ]
    },
    {
      "cell_type": "code",
      "execution_count": null,
      "metadata": {
        "colab": {
          "base_uri": "https://localhost:8080/"
        },
        "id": "8S8G9sqwavOl",
        "outputId": "d59dc8df-828b-42b2-9ca5-db3dc044a823"
      },
      "outputs": [
        {
          "name": "stdout",
          "output_type": "stream",
          "text": [
            "Точность: 0.768\n"
          ]
        }
      ],
      "source": [
        "best_gamma = sorted(gamma_scores,\n",
        "                    key=lambda x: gamma_scores[x], reverse=True)[0]\n",
        "\n",
        "model = LogisticRegression(penalty='l2', C=2/best_gamma, fit_intercept=False,\n",
        "                           random_state=0, solver='saga')\n",
        "model.fit(X_train, Y_train)\n",
        "print('Точность: {}'.format(model.score(X_test, Y_test)))"
      ]
    },
    {
      "cell_type": "code",
      "execution_count": null,
      "metadata": {
        "colab": {
          "base_uri": "https://localhost:8080/",
          "height": 269
        },
        "id": "X5shlbVTavOn",
        "outputId": "9c53a345-f22c-4095-cbb3-1fab31a7994e"
      },
      "outputs": [
        {
          "data": {
            "image/png": "[encoded data removed]",
            "text/plain": [
              "<Figure size 432x288 with 1 Axes>"
            ]
          },
          "metadata": {
            "needs_background": "light"
          },
          "output_type": "display_data"
        }
      ],
      "source": [
        "cols = ['blue', 'red']\n",
        "\n",
        "for k in np.unique(Y_test):\n",
        "    plt.plot(X_test[Y_test==k,0], X_test[Y_test==k,1], 'o',\n",
        "             label='класс {}'.format(k), color=cols[k])\n",
        "\n",
        "plt.plot(*get_line(*model.coef_[0], x_min=-0.6, x_max=0.6),\n",
        "         linewidth=2, color='black')\n",
        "\n",
        "plt.legend(loc='best')\n",
        "plt.show()"
      ]
    },
    {
      "cell_type": "markdown",
      "source": [
        "# Домашнее задание:\n",
        "\n",
        "Используя вероятностную постановку задачи для линейной регрессии с априорным предположением p(w) = N(0, I) получить аналитическое решение на оптимальный вектор параметров w.\n",
        "\n",
        "Использовать метод Cross-Validation вместо метода LOO для выбора оптимального параметра регуляризации gamma.\n"
      ],
      "metadata": {
        "id": "HIDaIOdO1gFp"
      }
    }
  ],
  "metadata": {
    "celltoolbar": "Slideshow",
    "colab": {
      "provenance": [],
      "toc_visible": true,
      "include_colab_link": true
    },
    "kernelspec": {
      "display_name": "Python 3",
      "language": "python",
      "name": "python3"
    },
    "language_info": {
      "codemirror_mode": {
        "name": "ipython",
        "version": 3
      },
      "file_extension": ".py",
      "mimetype": "text/x-python",
      "name": "python",
      "nbconvert_exporter": "python",
      "pygments_lexer": "ipython3",
      "version": "3.12.3"
    }
  },
  "nbformat": 4,
  "nbformat_minor": 0
}